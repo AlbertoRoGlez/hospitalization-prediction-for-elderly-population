{
 "cells": [
  {
   "cell_type": "code",
   "execution_count": 5,
   "id": "d21b2c3a",
   "metadata": {},
   "outputs": [],
   "source": [
    "import pandas as pd"
   ]
  },
  {
   "cell_type": "code",
   "execution_count": 6,
   "id": "4c6deb15",
   "metadata": {},
   "outputs": [],
   "source": [
    "df = pd.read_csv(r'data\\form\\form_data.csv')"
   ]
  },
  {
   "cell_type": "code",
   "execution_count": 7,
   "id": "79ccd26d",
   "metadata": {},
   "outputs": [
    {
     "data": {
      "text/html": [
       "<div>\n",
       "<style scoped>\n",
       "    .dataframe tbody tr th:only-of-type {\n",
       "        vertical-align: middle;\n",
       "    }\n",
       "\n",
       "    .dataframe tbody tr th {\n",
       "        vertical-align: top;\n",
       "    }\n",
       "\n",
       "    .dataframe thead th {\n",
       "        text-align: right;\n",
       "    }\n",
       "</style>\n",
       "<table border=\"1\" class=\"dataframe\">\n",
       "  <thead>\n",
       "    <tr style=\"text-align: right;\">\n",
       "      <th></th>\n",
       "      <th>paagey</th>\n",
       "      <th>pagender</th>\n",
       "      <th>paheight</th>\n",
       "      <th>paweight</th>\n",
       "      <th>pahibpe</th>\n",
       "      <th>paarthre</th>\n",
       "      <th>pacholst</th>\n",
       "      <th>Wheeze</th>\n",
       "      <th>pacancre</th>\n",
       "      <th>padiabe</th>\n",
       "      <th>...</th>\n",
       "      <th>paclims</th>\n",
       "      <th>pagrossaa</th>\n",
       "      <th>pafallinj</th>\n",
       "      <th>pahipe_m</th>\n",
       "      <th>papaina</th>\n",
       "      <th>parafaany</th>\n",
       "      <th>parjudg</th>\n",
       "      <th>pabath</th>\n",
       "      <th>paeat</th>\n",
       "      <th>pameds</th>\n",
       "    </tr>\n",
       "  </thead>\n",
       "  <tbody>\n",
       "    <tr>\n",
       "      <th>0</th>\n",
       "      <td>60</td>\n",
       "      <td>Male</td>\n",
       "      <td>177</td>\n",
       "      <td>75</td>\n",
       "      <td>1</td>\n",
       "      <td>1</td>\n",
       "      <td>0</td>\n",
       "      <td>1</td>\n",
       "      <td>0</td>\n",
       "      <td>0</td>\n",
       "      <td>...</td>\n",
       "      <td>1</td>\n",
       "      <td>1</td>\n",
       "      <td>1</td>\n",
       "      <td>1</td>\n",
       "      <td>1</td>\n",
       "      <td>1</td>\n",
       "      <td>0</td>\n",
       "      <td>1</td>\n",
       "      <td>1</td>\n",
       "      <td>1</td>\n",
       "    </tr>\n",
       "  </tbody>\n",
       "</table>\n",
       "<p>1 rows × 29 columns</p>\n",
       "</div>"
      ],
      "text/plain": [
       "   paagey pagender  paheight  paweight  pahibpe  paarthre  pacholst  Wheeze  \\\n",
       "0      60     Male       177        75        1         1         0       1   \n",
       "\n",
       "   pacancre  padiabe  ...  paclims  pagrossaa  pafallinj  pahipe_m  papaina  \\\n",
       "0         0        0  ...        1          1          1         1        1   \n",
       "\n",
       "   parafaany  parjudg  pabath  paeat  pameds  \n",
       "0          1        0       1      1       1  \n",
       "\n",
       "[1 rows x 29 columns]"
      ]
     },
     "execution_count": 7,
     "metadata": {},
     "output_type": "execute_result"
    }
   ],
   "source": [
    "df"
   ]
  },
  {
   "cell_type": "code",
   "execution_count": null,
   "id": "b8c88a01",
   "metadata": {},
   "outputs": [],
   "source": []
  }
 ],
 "metadata": {
  "kernelspec": {
   "display_name": "Python 3 (ipykernel)",
   "language": "python",
   "name": "python3"
  },
  "language_info": {
   "codemirror_mode": {
    "name": "ipython",
    "version": 3
   },
   "file_extension": ".py",
   "mimetype": "text/x-python",
   "name": "python",
   "nbconvert_exporter": "python",
   "pygments_lexer": "ipython3",
   "version": "3.11.3"
  }
 },
 "nbformat": 4,
 "nbformat_minor": 5
}
