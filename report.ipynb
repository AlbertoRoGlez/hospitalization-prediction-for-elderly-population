{
 "cells": [
  {
   "attachments": {},
   "cell_type": "markdown",
   "metadata": {},
   "source": [
    "**IDS = NP, CODENT, UNHHIDNP, rahhidnp\t**"
   ]
  },
  {
   "attachments": {},
   "cell_type": "markdown",
   "metadata": {},
   "source": [
    "# **DATOS SELECIONADOS** "
   ]
  },
  {
   "attachments": {},
   "cell_type": "markdown",
   "metadata": {},
   "source": [
    "### **ENFERMEDADES** <span style=\"color: green;\">--IMPORTANTE--</span>"
   ]
  },
  {
   "attachments": {},
   "cell_type": "markdown",
   "metadata": {},
   "source": [
    "\n",
    "\n",
    "- **RwHIBPE**  indica si un médico le ha dicho al encuestado que tiene o ha tenido `hipertensión` o presión arterial alta.\n",
    "- **RwDIABE**  indica si un médico le ha dicho al encuestado que tiene o ha tenido `diabetes` o niveles altos de azúcar en la sangre.\n",
    "- **RwCANCRE**  indica si un médico le ha dicho al encuestado que tiene o ha tenido `cáncer`.\n",
    "- **RwLUNGE_M**  indica si un médico le ha dicho al encuestado que tiene o ha tenido una `enfermedad respiratoria`, como asma o enfisema.\n",
    "- **RwHRTATTE**  indica si un médico le ha dicho al encuestado que ha tenido un `ataque al corazón`.\n",
    "- **RwHEARTE**  indica si un médico le ha dicho al encuestado que tiene una `afección cardíaca`, como insuficiencia cardíaca, arritmia, angina o un ataque al corazón.\n",
    "- **RwSTROKE**  indica si un médico le ha dicho al encuestado que ha tenido un `derrame cerebral`.\n",
    "- **RwARTHRE**  indica si un médico le ha dicho al encuestado que tiene o ha tenido `artritis o reumatismo`."
   ]
  },
  {
   "attachments": {},
   "cell_type": "markdown",
   "metadata": {},
   "source": [
    "### **GASTOS MEDICOS** <span style=\"color: green;\">--IMPORTANTE--</span>"
   ]
  },
  {
   "attachments": {},
   "cell_type": "markdown",
   "metadata": {},
   "source": [
    "- **CyyyyCPINDEX** es el índice de precios al consumidor anual para el año de la encuesta. "
   ]
  },
  {
   "attachments": {},
   "cell_type": "markdown",
   "metadata": {},
   "source": [
    "- **RwOOPHOS1Y**: Indica el gasto de bolsillo en hospitalizaciones en los últimos 12 meses.\n",
    "- **RwOOPFHHO1Y**: Indica el gasto de bolsillo total en homeópatas y curanderos (folk healers) en los últimos 12 meses.\n",
    "- **RwOOPDEN1Y**: Indica el gasto de bolsillo total en dentistas en los últimos 12 meses.\n",
    "- **RwOOPOSRG1Y**: Indica el gasto de bolsillo total en cirugías ambulatorias en los últimos 12 meses.\n",
    "- **RwOOPDOC1Y**: Indica el gasto de bolsillo total en médicos en los últimos 12 meses.\n",
    "- **RwOOPMD1Y**: Indica el gasto de bolsillo total en gastos médicos en general en los últimos 12 meses."
   ]
  },
  {
   "attachments": {},
   "cell_type": "markdown",
   "metadata": {},
   "source": [
    "### **AYUDAS** <span style=\"color: green;\">--IMPORTANTE--</span>"
   ]
  },
  {
   "attachments": {},
   "cell_type": "markdown",
   "metadata": {},
   "source": [
    "- **RwMEALHLP** ayuda a preparando la `comida`\n",
    "- **RwSHOPHLP** ayuda con las `compras`\n",
    "- **RwMEDHLP** ayuda con la `medicacion`\n",
    "- **RwMONEYHLP** ayuda `monetaria`"
   ]
  },
  {
   "attachments": {},
   "cell_type": "markdown",
   "metadata": {},
   "source": [
    "- **RwRAFAANY** indica si el entrevistado recibe algún tipo de cuidado `formal` para dificultades con las actividades de la vida diaria \n",
    "- **RwRIFAANY** indica si el encuestado recibe alguna atención `informal` por dificultades con instrumental\n",
    "actividades de la vida diaria"
   ]
  },
  {
   "attachments": {},
   "cell_type": "markdown",
   "metadata": {},
   "source": [
    "- **HwFCANY** indica si el encuestado y su cónyuge recibieron `ayuda financiera` de sus hijos/nietos en los últimos dos años."
   ]
  },
  {
   "attachments": {},
   "cell_type": "markdown",
   "metadata": {},
   "source": [
    "- **RwHIGOV** indica si el encuestado tiene cobertura de algún programa de `seguro de salud del gobierno`. "
   ]
  },
  {
   "attachments": {},
   "cell_type": "markdown",
   "metadata": {},
   "source": [
    "### **COMPORTAMIENTO** <span style=\"color: green;\">--IMPORTANTE--</span>"
   ]
  },
  {
   "attachments": {},
   "cell_type": "markdown",
   "metadata": {},
   "source": [
    "- **RwSMOKEV** indica si el entrevistado alguna vez ha fumado `cigarrillos`. \n",
    "- **RwSMOKEN** indica si el entrevistado informa que `actualmente fuma`.\n",
    "- **RwSMOKEF** indica la cantidad de cigarrillos que el entrevistado suele `fumar al día`. \n",
    "- **RwSTRTSMOK** indica la `edad` en la que el entrevistado comenzó a `fumar`."
   ]
  },
  {
   "attachments": {},
   "cell_type": "markdown",
   "metadata": {},
   "source": [
    "- **RwOANGRY** indica con qué frecuencia el entrevistado se enojó o mostró `hostilidad`.\n",
    "- **RwOSLEEP** indica con qué frecuencia el entrevistado tuvo dificultades para conciliar el `sueño` o despertó con frecuencia durante la noche.\n",
    "- **RwODNGR** indica con qué frecuencia el entrevistado hizo `cosas peligrosas` para sí mismo o para otros.\n",
    "- **RwOPACE** indica con qué frecuencia el entrevistado caminaba de un lado a otro o hacía movimientos de `balanceo` inexplicables mientras estaba sentado.\n",
    "- **RwOPLOT** indica con qué frecuencia el entrevistado mencionó que las personas están `tramando algo` en su contra o tratando de hacerle daño.\n",
    "- **RwOALCHL** indica con qué frecuencia el entrevistado consumió demasiado `alcohol`."
   ]
  },
  {
   "attachments": {},
   "cell_type": "markdown",
   "metadata": {},
   "source": [
    "- **RwIQSCORE1 a RwIQSCORE16** se refieren a una `serie de preguntas` en las que se le pidió al informante que comparara la capacidad actual del encuestado con su capacidad pasada en varias situaciones que requieren memoria o inteligencia. "
   ]
  },
  {
   "attachments": {},
   "cell_type": "markdown",
   "metadata": {},
   "source": [
    "### **MAS DATOS** <span style=\"color: green;\">--IMPORTANTE--</span>"
   ]
  },
  {
   "attachments": {},
   "cell_type": "markdown",
   "metadata": {},
   "source": [
    "- **RwWTHH** es el peso de análisis del hogar. `demografía` "
   ]
  },
  {
   "attachments": {},
   "cell_type": "markdown",
   "metadata": {},
   "source": [
    "- **RwAGEY** es la `edad` del encuestado en años al momento de la entrevista de la ola actual y proviene de la edad registrada en el directorio de muestreo. "
   ]
  },
  {
   "attachments": {},
   "cell_type": "markdown",
   "metadata": {},
   "source": [
    "- **HHwCTOT1M** captura el consumo total mensual del hogar a nivel de mes. HHwCTOT1M incluye todos los `gastos del hogar`, pero no incluye el valor de los bienes producidos para el consumo doméstico."
   ]
  },
  {
   "attachments": {},
   "cell_type": "markdown",
   "metadata": {},
   "source": [
    "- **RwMOMAGE y RwDADAGE** indican la `edad actual en años de la madre o padre` del encuestado si la madre o padre aún está vivo, o la edad de la madre o padre al momento de su fallecimiento."
   ]
  },
  {
   "attachments": {},
   "cell_type": "markdown",
   "metadata": {},
   "source": [
    "- **RwPRMEM** indica la calificación que el entrevistador proxy da a la `memoria` del entrevistado en el momento presente. "
   ]
  },
  {
   "attachments": {},
   "cell_type": "markdown",
   "metadata": {},
   "source": [
    "- **RwRJUDG** indica la calificación que el entrevistador proxy da a la capacidad del entrevistado para `tomar decisiones` y hacer juicios. "
   ]
  },
  {
   "attachments": {},
   "cell_type": "markdown",
   "metadata": {},
   "source": [
    "- **RwRORGNZ** indica la calificación que el entrevistador proxy da a la capacidad del entrevistado para `organizar` sus actividades diarias. "
   ]
  },
  {
   "attachments": {},
   "cell_type": "markdown",
   "metadata": {},
   "source": [
    "# **CORRELATIVO PERO DUDOSO**"
   ]
  },
  {
   "attachments": {},
   "cell_type": "markdown",
   "metadata": {},
   "source": [
    "- **RwDOCTOR1Y** indica si el encuestado reportó al menos una visita al médico en los últimos 12 meses. <span style=\"color: blue;\">--???--</span>"
   ]
  },
  {
   "attachments": {},
   "cell_type": "markdown",
   "metadata": {},
   "source": [
    "# **DATOS DESCARTADOS**"
   ]
  },
  {
   "attachments": {},
   "cell_type": "markdown",
   "metadata": {},
   "source": [
    "- HwHHID es un identificador único de un hogar en una ola determinada. <span style=\"color: orange;\"> --???--</span>"
   ]
  },
  {
   "attachments": {},
   "cell_type": "markdown",
   "metadata": {},
   "source": [
    "- **HwFCAMT** es el monto total de transferencias financieras estimadas que el encuestado y su cónyuge recibieron de sus hijos/nietos en el último año.<span style=\"color: orange;\"> --???--</span>"
   ]
  },
  {
   "attachments": {},
   "cell_type": "markdown",
   "metadata": {},
   "source": [
    "- **RwDOMHAND**   indicates the dominant hand of the respondent <span style=\"color: orange;\">--???--</span>\n"
   ]
  },
  {
   "attachments": {},
   "cell_type": "markdown",
   "metadata": {},
   "source": [
    "- **RADLOCS**   indicates the location of the respondent at the time of their death <span style=\"color: red;\">--NO SE USA--</span>\n"
   ]
  },
  {
   "attachments": {},
   "cell_type": "markdown",
   "metadata": {},
   "source": [
    "# **A CONSIDERAR**"
   ]
  },
  {
   "attachments": {},
   "cell_type": "markdown",
   "metadata": {},
   "source": [
    "- faltan ver muchas variables con corr negativa"
   ]
  },
  {
   "attachments": {},
   "cell_type": "markdown",
   "metadata": {},
   "source": [
    "# **SIN ENCONTRAR**"
   ]
  },
  {
   "attachments": {},
   "cell_type": "markdown",
   "metadata": {},
   "source": [
    "- raxoopdrugmf1y **ENCONTRAR**"
   ]
  },
  {
   "attachments": {},
   "cell_type": "markdown",
   "metadata": {},
   "source": [
    "- racod_m **ENCONTRAR**"
   ]
  },
  {
   "attachments": {},
   "cell_type": "markdown",
   "metadata": {},
   "source": [
    "- rawitwill_m"
   ]
  },
  {
   "attachments": {},
   "cell_type": "markdown",
   "metadata": {},
   "source": [
    "- ralstcore "
   ]
  },
  {
   "attachments": {},
   "cell_type": "markdown",
   "metadata": {},
   "source": [
    "- raxtiwy"
   ]
  },
  {
   "attachments": {},
   "cell_type": "markdown",
   "metadata": {},
   "source": [
    "- raxchild "
   ]
  },
  {
   "cell_type": "markdown",
   "metadata": {},
   "source": [
    "- ramvhlp  "
   ]
  },
  {
   "cell_type": "markdown",
   "metadata": {},
   "source": [
    "- raelost1m"
   ]
  },
  {
   "attachments": {},
   "cell_type": "markdown",
   "metadata": {},
   "source": [
    "- rainscovr "
   ]
  },
  {
   "attachments": {},
   "cell_type": "markdown",
   "metadata": {},
   "source": [
    "- raxoopnmd1y_m"
   ]
  },
  {
   "attachments": {},
   "cell_type": "markdown",
   "metadata": {},
   "source": [
    "- racfinl"
   ]
  },
  {
   "attachments": {},
   "cell_type": "markdown",
   "metadata": {},
   "source": [
    "# last ROW 70 de + a -"
   ]
  }
 ],
 "metadata": {
  "language_info": {
   "name": "python"
  },
  "orig_nbformat": 4
 },
 "nbformat": 4,
 "nbformat_minor": 2
}
