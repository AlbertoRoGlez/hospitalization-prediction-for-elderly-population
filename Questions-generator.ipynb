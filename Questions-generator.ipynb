{
 "cells": [
  {
   "cell_type": "code",
   "execution_count": 9,
   "id": "5a6d3027",
   "metadata": {},
   "outputs": [
    {
     "name": "stdout",
     "output_type": "stream",
     "text": [
      "<div class=\"col-6 pb-3\" id=\"Question3\">  <label class=\"pb-1\">Question 3:</label>  <select class=\"form-select\" name=\"Question3\" id=\"question3Select\">    <option value=\"\">--Please choose an option--</option>    <option value=\"Yes\">Yes</option>    <option value=\"No\">No</option>    <option value=\"Not knows\">Not knows</option>  </select></div>\n",
      "<div class=\"col-6 pb-3\" id=\"Question4\">  <label class=\"pb-1\">Question 4:</label>  <select class=\"form-select\" name=\"Question4\" id=\"question4Select\">    <option value=\"\">--Please choose an option--</option>    <option value=\"Yes\">Yes</option>    <option value=\"No\">No</option>    <option value=\"Not knows\">Not knows</option>  </select></div>\n",
      "<div class=\"col-6 pb-3\" id=\"Question5\">  <label class=\"pb-1\">Question 5:</label>  <select class=\"form-select\" name=\"Question5\" id=\"question5Select\">    <option value=\"\">--Please choose an option--</option>    <option value=\"Yes\">Yes</option>    <option value=\"No\">No</option>    <option value=\"Not knows\">Not knows</option>  </select></div>\n",
      "<div class=\"col-6 pb-3\" id=\"Question6\">  <label class=\"pb-1\">Question 6:</label>  <select class=\"form-select\" name=\"Question6\" id=\"question6Select\">    <option value=\"\">--Please choose an option--</option>    <option value=\"Yes\">Yes</option>    <option value=\"No\">No</option>    <option value=\"Not knows\">Not knows</option>  </select></div>\n",
      "<div class=\"col-6 pb-3\" id=\"Question7\">  <label class=\"pb-1\">Question 7:</label>  <select class=\"form-select\" name=\"Question7\" id=\"question7Select\">    <option value=\"\">--Please choose an option--</option>    <option value=\"Yes\">Yes</option>    <option value=\"No\">No</option>    <option value=\"Not knows\">Not knows</option>  </select></div>\n",
      "<div class=\"col-6 pb-3\" id=\"Question8\">  <label class=\"pb-1\">Question 8:</label>  <select class=\"form-select\" name=\"Question8\" id=\"question8Select\">    <option value=\"\">--Please choose an option--</option>    <option value=\"Yes\">Yes</option>    <option value=\"No\">No</option>    <option value=\"Not knows\">Not knows</option>  </select></div>\n",
      "<div class=\"col-6 pb-3\" id=\"Question9\">  <label class=\"pb-1\">Question 9:</label>  <select class=\"form-select\" name=\"Question9\" id=\"question9Select\">    <option value=\"\">--Please choose an option--</option>    <option value=\"Yes\">Yes</option>    <option value=\"No\">No</option>    <option value=\"Not knows\">Not knows</option>  </select></div>\n",
      "<div class=\"col-6 pb-3\" id=\"Question10\">  <label class=\"pb-1\">Question 10:</label>  <select class=\"form-select\" name=\"Question10\" id=\"question10Select\">    <option value=\"\">--Please choose an option--</option>    <option value=\"Yes\">Yes</option>    <option value=\"No\">No</option>    <option value=\"Not knows\">Not knows</option>  </select></div>\n",
      "<div class=\"col-6 pb-3\" id=\"Question11\">  <label class=\"pb-1\">Question 11:</label>  <select class=\"form-select\" name=\"Question11\" id=\"question11Select\">    <option value=\"\">--Please choose an option--</option>    <option value=\"Yes\">Yes</option>    <option value=\"No\">No</option>    <option value=\"Not knows\">Not knows</option>  </select></div>\n",
      "<div class=\"col-6 pb-3\" id=\"Question12\">  <label class=\"pb-1\">Question 12:</label>  <select class=\"form-select\" name=\"Question12\" id=\"question12Select\">    <option value=\"\">--Please choose an option--</option>    <option value=\"Yes\">Yes</option>    <option value=\"No\">No</option>    <option value=\"Not knows\">Not knows</option>  </select></div>\n",
      "<div class=\"col-6 pb-3\" id=\"Question13\">  <label class=\"pb-1\">Question 13:</label>  <select class=\"form-select\" name=\"Question13\" id=\"question13Select\">    <option value=\"\">--Please choose an option--</option>    <option value=\"Yes\">Yes</option>    <option value=\"No\">No</option>    <option value=\"Not knows\">Not knows</option>  </select></div>\n",
      "<div class=\"col-6 pb-3\" id=\"Question14\">  <label class=\"pb-1\">Question 14:</label>  <select class=\"form-select\" name=\"Question14\" id=\"question14Select\">    <option value=\"\">--Please choose an option--</option>    <option value=\"Yes\">Yes</option>    <option value=\"No\">No</option>    <option value=\"Not knows\">Not knows</option>  </select></div>\n",
      "<div class=\"col-6 pb-3\" id=\"Question15\">  <label class=\"pb-1\">Question 15:</label>  <select class=\"form-select\" name=\"Question15\" id=\"question15Select\">    <option value=\"\">--Please choose an option--</option>    <option value=\"Yes\">Yes</option>    <option value=\"No\">No</option>    <option value=\"Not knows\">Not knows</option>  </select></div>\n",
      "<div class=\"col-6 pb-3\" id=\"Question16\">  <label class=\"pb-1\">Question 16:</label>  <select class=\"form-select\" name=\"Question16\" id=\"question16Select\">    <option value=\"\">--Please choose an option--</option>    <option value=\"Yes\">Yes</option>    <option value=\"No\">No</option>    <option value=\"Not knows\">Not knows</option>  </select></div>\n",
      "<div class=\"col-6 pb-3\" id=\"Question17\">  <label class=\"pb-1\">Question 17:</label>  <select class=\"form-select\" name=\"Question17\" id=\"question17Select\">    <option value=\"\">--Please choose an option--</option>    <option value=\"Yes\">Yes</option>    <option value=\"No\">No</option>    <option value=\"Not knows\">Not knows</option>  </select></div>\n",
      "<div class=\"col-6 pb-3\" id=\"Question18\">  <label class=\"pb-1\">Question 18:</label>  <select class=\"form-select\" name=\"Question18\" id=\"question18Select\">    <option value=\"\">--Please choose an option--</option>    <option value=\"Yes\">Yes</option>    <option value=\"No\">No</option>    <option value=\"Not knows\">Not knows</option>  </select></div>\n",
      "<div class=\"col-6 pb-3\" id=\"Question19\">  <label class=\"pb-1\">Question 19:</label>  <select class=\"form-select\" name=\"Question19\" id=\"question19Select\">    <option value=\"\">--Please choose an option--</option>    <option value=\"Yes\">Yes</option>    <option value=\"No\">No</option>    <option value=\"Not knows\">Not knows</option>  </select></div>\n",
      "<div class=\"col-6 pb-3\" id=\"Question20\">  <label class=\"pb-1\">Question 20:</label>  <select class=\"form-select\" name=\"Question20\" id=\"question20Select\">    <option value=\"\">--Please choose an option--</option>    <option value=\"Yes\">Yes</option>    <option value=\"No\">No</option>    <option value=\"Not knows\">Not knows</option>  </select></div>\n",
      "<div class=\"col-6 pb-3\" id=\"Question21\">  <label class=\"pb-1\">Question 21:</label>  <select class=\"form-select\" name=\"Question21\" id=\"question21Select\">    <option value=\"\">--Please choose an option--</option>    <option value=\"Yes\">Yes</option>    <option value=\"No\">No</option>    <option value=\"Not knows\">Not knows</option>  </select></div>\n",
      "<div class=\"col-6 pb-3\" id=\"Question22\">  <label class=\"pb-1\">Question 22:</label>  <select class=\"form-select\" name=\"Question22\" id=\"question22Select\">    <option value=\"\">--Please choose an option--</option>    <option value=\"Yes\">Yes</option>    <option value=\"No\">No</option>    <option value=\"Not knows\">Not knows</option>  </select></div>\n",
      "<div class=\"col-6 pb-3\" id=\"Question23\">  <label class=\"pb-1\">Question 23:</label>  <select class=\"form-select\" name=\"Question23\" id=\"question23Select\">    <option value=\"\">--Please choose an option--</option>    <option value=\"Yes\">Yes</option>    <option value=\"No\">No</option>    <option value=\"Not knows\">Not knows</option>  </select></div>\n",
      "<div class=\"col-6 pb-3\" id=\"Question24\">  <label class=\"pb-1\">Question 24:</label>  <select class=\"form-select\" name=\"Question24\" id=\"question24Select\">    <option value=\"\">--Please choose an option--</option>    <option value=\"Yes\">Yes</option>    <option value=\"No\">No</option>    <option value=\"Not knows\">Not knows</option>  </select></div>\n",
      "<div class=\"col-6 pb-3\" id=\"Question25\">  <label class=\"pb-1\">Question 25:</label>  <select class=\"form-select\" name=\"Question25\" id=\"question25Select\">    <option value=\"\">--Please choose an option--</option>    <option value=\"Yes\">Yes</option>    <option value=\"No\">No</option>    <option value=\"Not knows\">Not knows</option>  </select></div>\n",
      "<div class=\"col-6 pb-3\" id=\"Question26\">  <label class=\"pb-1\">Question 26:</label>  <select class=\"form-select\" name=\"Question26\" id=\"question26Select\">    <option value=\"\">--Please choose an option--</option>    <option value=\"Yes\">Yes</option>    <option value=\"No\">No</option>    <option value=\"Not knows\">Not knows</option>  </select></div>\n",
      "<div class=\"col-6 pb-3\" id=\"Question27\">  <label class=\"pb-1\">Question 27:</label>  <select class=\"form-select\" name=\"Question27\" id=\"question27Select\">    <option value=\"\">--Please choose an option--</option>    <option value=\"Yes\">Yes</option>    <option value=\"No\">No</option>    <option value=\"Not knows\">Not knows</option>  </select></div>\n",
      "<div class=\"col-6 pb-3\" id=\"Question28\">  <label class=\"pb-1\">Question 28:</label>  <select class=\"form-select\" name=\"Question28\" id=\"question28Select\">    <option value=\"\">--Please choose an option--</option>    <option value=\"Yes\">Yes</option>    <option value=\"No\">No</option>    <option value=\"Not knows\">Not knows</option>  </select></div>\n",
      "<div class=\"col-6 pb-3\" id=\"Question29\">  <label class=\"pb-1\">Question 29:</label>  <select class=\"form-select\" name=\"Question29\" id=\"question29Select\">    <option value=\"\">--Please choose an option--</option>    <option value=\"Yes\">Yes</option>    <option value=\"No\">No</option>    <option value=\"Not knows\">Not knows</option>  </select></div>\n",
      "<div class=\"col-6 pb-3\" id=\"Question30\">  <label class=\"pb-1\">Question 30:</label>  <select class=\"form-select\" name=\"Question30\" id=\"question30Select\">    <option value=\"\">--Please choose an option--</option>    <option value=\"Yes\">Yes</option>    <option value=\"No\">No</option>    <option value=\"Not knows\">Not knows</option>  </select></div>\n",
      "<div class=\"col-6 pb-3\" id=\"Question31\">  <label class=\"pb-1\">Question 31:</label>  <select class=\"form-select\" name=\"Question31\" id=\"question31Select\">    <option value=\"\">--Please choose an option--</option>    <option value=\"Yes\">Yes</option>    <option value=\"No\">No</option>    <option value=\"Not knows\">Not knows</option>  </select></div>\n",
      "<div class=\"col-6 pb-3\" id=\"Question32\">  <label class=\"pb-1\">Question 32:</label>  <select class=\"form-select\" name=\"Question32\" id=\"question32Select\">    <option value=\"\">--Please choose an option--</option>    <option value=\"Yes\">Yes</option>    <option value=\"No\">No</option>    <option value=\"Not knows\">Not knows</option>  </select></div>\n",
      "<div class=\"col-6 pb-3\" id=\"Question33\">  <label class=\"pb-1\">Question 33:</label>  <select class=\"form-select\" name=\"Question33\" id=\"question33Select\">    <option value=\"\">--Please choose an option--</option>    <option value=\"Yes\">Yes</option>    <option value=\"No\">No</option>    <option value=\"Not knows\">Not knows</option>  </select></div>\n",
      "<div class=\"col-6 pb-3\" id=\"Question34\">  <label class=\"pb-1\">Question 34:</label>  <select class=\"form-select\" name=\"Question34\" id=\"question34Select\">    <option value=\"\">--Please choose an option--</option>    <option value=\"Yes\">Yes</option>    <option value=\"No\">No</option>    <option value=\"Not knows\">Not knows</option>  </select></div>\n",
      "<div class=\"col-6 pb-3\" id=\"Question35\">  <label class=\"pb-1\">Question 35:</label>  <select class=\"form-select\" name=\"Question35\" id=\"question35Select\">    <option value=\"\">--Please choose an option--</option>    <option value=\"Yes\">Yes</option>    <option value=\"No\">No</option>    <option value=\"Not knows\">Not knows</option>  </select></div>\n",
      "<div class=\"col-6 pb-3\" id=\"Question36\">  <label class=\"pb-1\">Question 36:</label>  <select class=\"form-select\" name=\"Question36\" id=\"question36Select\">    <option value=\"\">--Please choose an option--</option>    <option value=\"Yes\">Yes</option>    <option value=\"No\">No</option>    <option value=\"Not knows\">Not knows</option>  </select></div>\n",
      "<div class=\"col-6 pb-3\" id=\"Question37\">  <label class=\"pb-1\">Question 37:</label>  <select class=\"form-select\" name=\"Question37\" id=\"question37Select\">    <option value=\"\">--Please choose an option--</option>    <option value=\"Yes\">Yes</option>    <option value=\"No\">No</option>    <option value=\"Not knows\">Not knows</option>  </select></div>\n",
      "<div class=\"col-6 pb-3\" id=\"Question38\">  <label class=\"pb-1\">Question 38:</label>  <select class=\"form-select\" name=\"Question38\" id=\"question38Select\">    <option value=\"\">--Please choose an option--</option>    <option value=\"Yes\">Yes</option>    <option value=\"No\">No</option>    <option value=\"Not knows\">Not knows</option>  </select></div>\n",
      "<div class=\"col-6 pb-3\" id=\"Question39\">  <label class=\"pb-1\">Question 39:</label>  <select class=\"form-select\" name=\"Question39\" id=\"question39Select\">    <option value=\"\">--Please choose an option--</option>    <option value=\"Yes\">Yes</option>    <option value=\"No\">No</option>    <option value=\"Not knows\">Not knows</option>  </select></div>\n",
      "<div class=\"col-6 pb-3\" id=\"Question40\">  <label class=\"pb-1\">Question 40:</label>  <select class=\"form-select\" name=\"Question40\" id=\"question40Select\">    <option value=\"\">--Please choose an option--</option>    <option value=\"Yes\">Yes</option>    <option value=\"No\">No</option>    <option value=\"Not knows\">Not knows</option>  </select></div>\n",
      "<div class=\"col-6 pb-3\" id=\"Question41\">  <label class=\"pb-1\">Question 41:</label>  <select class=\"form-select\" name=\"Question41\" id=\"question41Select\">    <option value=\"\">--Please choose an option--</option>    <option value=\"Yes\">Yes</option>    <option value=\"No\">No</option>    <option value=\"Not knows\">Not knows</option>  </select></div>\n",
      "<div class=\"col-6 pb-3\" id=\"Question42\">  <label class=\"pb-1\">Question 42:</label>  <select class=\"form-select\" name=\"Question42\" id=\"question42Select\">    <option value=\"\">--Please choose an option--</option>    <option value=\"Yes\">Yes</option>    <option value=\"No\">No</option>    <option value=\"Not knows\">Not knows</option>  </select></div>\n",
      "<div class=\"col-6 pb-3\" id=\"Question43\">  <label class=\"pb-1\">Question 43:</label>  <select class=\"form-select\" name=\"Question43\" id=\"question43Select\">    <option value=\"\">--Please choose an option--</option>    <option value=\"Yes\">Yes</option>    <option value=\"No\">No</option>    <option value=\"Not knows\">Not knows</option>  </select></div>\n",
      "<div class=\"col-6 pb-3\" id=\"Question44\">  <label class=\"pb-1\">Question 44:</label>  <select class=\"form-select\" name=\"Question44\" id=\"question44Select\">    <option value=\"\">--Please choose an option--</option>    <option value=\"Yes\">Yes</option>    <option value=\"No\">No</option>    <option value=\"Not knows\">Not knows</option>  </select></div>\n",
      "<div class=\"col-6 pb-3\" id=\"Question45\">  <label class=\"pb-1\">Question 45:</label>  <select class=\"form-select\" name=\"Question45\" id=\"question45Select\">    <option value=\"\">--Please choose an option--</option>    <option value=\"Yes\">Yes</option>    <option value=\"No\">No</option>    <option value=\"Not knows\">Not knows</option>  </select></div>\n",
      "<div class=\"col-6 pb-3\" id=\"Question46\">  <label class=\"pb-1\">Question 46:</label>  <select class=\"form-select\" name=\"Question46\" id=\"question46Select\">    <option value=\"\">--Please choose an option--</option>    <option value=\"Yes\">Yes</option>    <option value=\"No\">No</option>    <option value=\"Not knows\">Not knows</option>  </select></div>\n",
      "<div class=\"col-6 pb-3\" id=\"Question47\">  <label class=\"pb-1\">Question 47:</label>  <select class=\"form-select\" name=\"Question47\" id=\"question47Select\">    <option value=\"\">--Please choose an option--</option>    <option value=\"Yes\">Yes</option>    <option value=\"No\">No</option>    <option value=\"Not knows\">Not knows</option>  </select></div>\n",
      "<div class=\"col-6 pb-3\" id=\"Question48\">  <label class=\"pb-1\">Question 48:</label>  <select class=\"form-select\" name=\"Question48\" id=\"question48Select\">    <option value=\"\">--Please choose an option--</option>    <option value=\"Yes\">Yes</option>    <option value=\"No\">No</option>    <option value=\"Not knows\">Not knows</option>  </select></div>\n",
      "<div class=\"col-6 pb-3\" id=\"Question49\">  <label class=\"pb-1\">Question 49:</label>  <select class=\"form-select\" name=\"Question49\" id=\"question49Select\">    <option value=\"\">--Please choose an option--</option>    <option value=\"Yes\">Yes</option>    <option value=\"No\">No</option>    <option value=\"Not knows\">Not knows</option>  </select></div>\n"
     ]
    }
   ],
   "source": [
    "for i in range(3,50):\n",
    "    print(f'<div class=\"col-6 pb-3\" id=\"Question{i}\">'\n",
    "          f'  <label class=\"pb-1\">Question {i}:</label>'\n",
    "          f'  <select class=\"form-select\" name=\"Question{i}\" id=\"question{i}Select\">'\n",
    "          '    <option value=\"\">--Please choose an option--</option>'\n",
    "          '    <option value=\"Yes\">Yes</option>'\n",
    "          '    <option value=\"No\">No</option>'\n",
    "          '    <option value=\"Not knows\">Not knows</option>'\n",
    "          '  </select>'\n",
    "          '</div>')"
   ]
  },
  {
   "cell_type": "code",
   "execution_count": null,
   "id": "9e603084",
   "metadata": {},
   "outputs": [],
   "source": []
  }
 ],
 "metadata": {
  "kernelspec": {
   "display_name": "Python 3 (ipykernel)",
   "language": "python",
   "name": "python3"
  },
  "language_info": {
   "codemirror_mode": {
    "name": "ipython",
    "version": 3
   },
   "file_extension": ".py",
   "mimetype": "text/x-python",
   "name": "python",
   "nbconvert_exporter": "python",
   "pygments_lexer": "ipython3",
   "version": "3.11.3"
  }
 },
 "nbformat": 4,
 "nbformat_minor": 5
}
