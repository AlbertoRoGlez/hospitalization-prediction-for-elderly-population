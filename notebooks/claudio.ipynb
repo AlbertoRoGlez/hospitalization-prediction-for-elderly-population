{
 "cells": [
  {
   "cell_type": "code",
   "execution_count": 2,
   "metadata": {},
   "outputs": [
    {
     "name": "stdout",
     "output_type": "stream",
     "text": [
      "Current directory: c:\\Users\\Leo\\OneDrive\\Escritorio\\Final Proyect\n"
     ]
    }
   ],
   "source": [
    "%load_ext autoreload\n",
    "%autoreload 2\n",
    "\n",
    "import __confing\n",
    "__confing.change_to_root_folder()"
   ]
  },
  {
   "cell_type": "code",
   "execution_count": 3,
   "metadata": {},
   "outputs": [],
   "source": [
    "try:\n",
    "    __confing.execute_notebook('notebooks/data_extract.ipynb')\n",
    "except:\n",
    "    pass"
   ]
  },
  {
   "cell_type": "code",
   "execution_count": 4,
   "metadata": {},
   "outputs": [],
   "source": [
    "import pandas as pd\n",
    "import numpy as np\n",
    "\n",
    "from src import value_filler as vs\n",
    "from src import feature_selection as fs\n",
    "from src import data_procces as dp\n",
    "\n",
    "from sklearn.preprocessing import StandardScaler\n",
    "from sklearn.model_selection import train_test_split\n",
    "from sklearn.utils import resample\n",
    "from src import evaluation\n",
    "\n",
    "from xgboost import XGBClassifier\n",
    "from sklearn.metrics import accuracy_score, classification_report, mean_squared_error,roc_auc_score,confusion_matrix\n",
    "from sklearn.model_selection import KFold"
   ]
  },
  {
   "cell_type": "code",
   "execution_count": 49,
   "metadata": {},
   "outputs": [],
   "source": [
    "n='a'\n",
    "df=pd.read_csv(r'data/custom/w1_and_w2.csv')\n",
    "target=f'p{n}hosp1y'\n",
    "drop=[f'p{n}hspnit1y'] # si la wave3 falla quitar estas columnas , 'r3bpsft', 'r3bpref'"
   ]
  },
  {
   "cell_type": "code",
   "execution_count": 50,
   "metadata": {},
   "outputs": [],
   "source": [
    "# Drop\n",
    "df = df.drop(drop, axis=1)\n",
    "\n",
    "df = df.dropna(subset=[target]) \n",
    "\n",
    "porcentaje_nulos = df.isnull().sum(axis=1) / len(df.columns)\n",
    "df = df[(df[target] != 0) | (porcentaje_nulos <= 0.4)]"
   ]
  },
  {
   "cell_type": "code",
   "execution_count": 59,
   "metadata": {},
   "outputs": [],
   "source": [
    "# fill\n",
    "y = df[target]\n",
    "X = df.drop(target,axis=1)\n",
    "X = fs.fast_fill_2(X)"
   ]
  },
  {
   "cell_type": "code",
   "execution_count": 60,
   "metadata": {},
   "outputs": [],
   "source": [
    "# # feature selection\n",
    "# feature_selected=['paoophos1y', 'pameals', 'pahigov', 'parifaany', 'pamweight', 'pahghtsft', 'pauppermobm', 'pahenum', 'pahrtatte', 'paoophosf1y', 'pabalrtsec', 'panagi8', 'parxhrtat', 'pawghtsft', 'paeffort', 'paoopmdf1y', 'paslfemp', 'parfaany', 'pahrtatlmt', 'pacagem', 'pabaltryu', 'panovisual', 'pahtcomp', 'padoctor1y', 'padoctim1y', 'parfcare', 'pacholst', 'pamedsa', 'pafimrc_m', 'parelgimp', 'paeat', 'pafallinj', 'paricany', 'padrinkbd', 'pampart', 'pawork', 'pagrossa', 'panagi10', 'pagpcarehr', 'palowermob', 'pambmi', 'pastoop', 'pabalrt', 'pasita', 'pabede', 'parxhibp', 'paarmsa', 'pamomliv', 'paoopdoc1y', 'pajlocc_m', 'pajcten', 'pamheight', 'pawhappy', 'paswell', 'pawalk1', 'padrinkcr', 'parxdiabi', 'papusha', 'palifein_m', 'paoutpt1y', 'pasleepr', 'pashlt', 'paimrc_m', 'parccarehr', 'padrinkn', 'paracaany', 'pagpcare', 'pariccaren', 'parccare', 'pahltc']\n",
    "# X=X[feature_selected]"
   ]
  },
  {
   "cell_type": "code",
   "execution_count": 61,
   "metadata": {},
   "outputs": [],
   "source": [
    "# feature selection\n",
    "feature_selected=['paurina2y','pacholst','pabreast','paprost','papapsm','pamammog','pacage','padrinkcr','padrinkbd','padrinkb','paheight','paweight','pabmi','papaina','papainlv','papainfr','pafatigue','pawheeze','pabreath_m','paswell','pahearaid','pahearing','pasight','paglasses','palunglmt_m','pahrtatlmt','pastroklmt','paarthlmt','palowermoba','pauppermoba','pagrossaa','palgmusaa','pamobilaa','paclims','pasit','paarms','palift','pastoop','pachair','pameals','pashop','pamoney','pameds','pabedhlp','pabed','patoilt','paeat','pabath','pawalkr','padress','pahipcomp','pafall','pafallinj','pamhip','pahipe_m','parxarthr','parxstrok','parxhrtat','pacncrothr','pacncrmeds','pacncrradn','pacncrsurg','pacncrchem','parxdiab','parxdiabo','parxhibp','parechrtatt','parifaany','parfaany','parfcaren','pararcare','padresshlp', 'pawalkhlp', 'pabathehlp', 'paeathlp', 'pabedhlp', 'patoilethlp', 'pamealhlp', 'pashophlp', 'pamedhlp', 'pamoneyhlp','pahibpe','pagender','padiabe','pacancre','palunglmt_m','parxlung_m','pahrtatte','pastroke','paarthre','parifaany','parafaany','pahigov','pasmokev','pasmoken','paoangry','paosleep','paodngr','paodngr','paopace','paoplot','paoalchl','pawthh','paagey','pamomage','padadage','paprmem','parjudg','parorgnz']\n",
    "X=X[feature_selected]"
   ]
  },
  {
   "cell_type": "code",
   "execution_count": 62,
   "metadata": {},
   "outputs": [],
   "source": [
    "# split\n",
    "X_train, X_test, y_train, y_test=dp.split_data(X, y, test_size=0.2, random_state=40)\n",
    "X_test_o, y_test_o = X_test, y_test"
   ]
  },
  {
   "cell_type": "code",
   "execution_count": 63,
   "metadata": {},
   "outputs": [],
   "source": [
    "# resample \n",
    "X_train, y_train = dp.apply_resample(X_train, y_train,v=1.20)"
   ]
  },
  {
   "cell_type": "code",
   "execution_count": 64,
   "metadata": {},
   "outputs": [],
   "source": [
    "# smote\n",
    "X_train, y_train = dp.apply_smote(X_train, y_train)"
   ]
  },
  {
   "cell_type": "code",
   "execution_count": 65,
   "metadata": {},
   "outputs": [],
   "source": [
    "# scaler\n",
    "X_train, X_test = dp.apply_standard_scaler(X_train, X_test)"
   ]
  },
  {
   "cell_type": "code",
   "execution_count": 66,
   "metadata": {},
   "outputs": [],
   "source": [
    "best_params={\n",
    "    'max_depth': 8, \n",
    "    'learning_rate': 0.01759366380037561, \n",
    "    'n_estimators': 870, \n",
    "    'subsample': 0.4151616264321625, \n",
    "    'colsample_bytree': 0.18567068433714898\n",
    "}\n",
    "\n",
    "k = 8\n",
    "kf = KFold(n_splits=k)\n",
    "\n",
    "features = X_train\n",
    "labels = y_train\n",
    "\n",
    "for train_index, test_index in kf.split(features):\n",
    "    X_train, X_test = features[train_index], features[test_index]\n",
    "    y_train, y_test = labels[train_index], labels[test_index]\n",
    "    \n",
    "    model = XGBClassifier(**best_params)\n",
    "    model.fit(X_train, y_train)"
   ]
  },
  {
   "cell_type": "code",
   "execution_count": 67,
   "metadata": {},
   "outputs": [
    {
     "name": "stdout",
     "output_type": "stream",
     "text": [
      "AUC=0.8384045216212074\n",
      "pahosp1y\n",
      "0.0    3279\n",
      "1.0     985\n",
      "Name: count, dtype: int64\n"
     ]
    }
   ],
   "source": [
    "y_pred_proba = model.predict_proba(X_test_o)[:, 1]\n",
    "auc = roc_auc_score(y_test_o, y_pred_proba)\n",
    "print(f'AUC={auc}')\n",
    "print(y_test_o.value_counts())"
   ]
  },
  {
   "cell_type": "code",
   "execution_count": 68,
   "metadata": {},
   "outputs": [],
   "source": [
    "def feature_importance(model, df:pd.DataFrame, target:str, n:int):\n",
    "    importances = model.feature_importances_\n",
    "    indices = np.argsort(importances)[::-1]\n",
    "    \n",
    "    feature_names_original = list(df.columns)\n",
    "    feature_names_original.remove(target)\n",
    "    \n",
    "    max_importance = list(indices[:n])\n",
    "    \n",
    "    nueva_lista = [feature_names_original[i] for i in max_importance]\n",
    "    \n",
    "    return nueva_lista"
   ]
  },
  {
   "cell_type": "code",
   "execution_count": 69,
   "metadata": {},
   "outputs": [
    {
     "name": "stdout",
     "output_type": "stream",
     "text": [
      "['pahltc', 'padressa', 'pawalkra', 'pashopa', 'paiwy', 'pamrct', 'pamealsa', 'pamstath', 'papusha', 'pawalkr', 'paagey', 'paiwm', 'pabath', 'pabeda', 'palifta', 'pasita', 'pachair', 'pabatha', 'pampart', 'paproxy', 'Unnamed: 0', 'paarmsa', 'patoilt', 'pawtresp', 'pabed', 'paclim1', 'pamstat', 'pashop', 'paadlfivem', 'pamoneya', 'pajoga', 'padress', 'paadlfive', 'pasit', 'paadlaa', 'paclims', 'paadla_m', 'paeata', 'pajog', 'paeat', 'palift', 'paclim1a', 'pastoopa', 'padimea', 'pameals', 'pamoney', 'pawalk1', 'pawalksa', 'pamedsa', 'pameds', 'pawalk1a', 'paadlam', 'paadla', 'pawalks', 'patoilta', 'paadltota_m', 'paadltotm_m', 'paadlfivea', 'pashlt', 'paiwf', 'paadltot_m', 'padime', 'pachaira', 'papush', 'paarms', 'paiwstat', 'paclimsa', 'pastoop']\n"
     ]
    }
   ],
   "source": [
    "feature_selected = feature_importance(model, df, target, n=70)\n",
    "print(feature_selected)"
   ]
  },
  {
   "cell_type": "code",
   "execution_count": 70,
   "metadata": {},
   "outputs": [],
   "source": [
    "best_params={\n",
    "    'max_depth': 8, \n",
    "    'learning_rate': 0.01759366380037561, \n",
    "    'n_estimators': 870, \n",
    "    'subsample': 0.4151616264321625, \n",
    "    'colsample_bytree': 0.18567068433714898\n",
    "}# con variables de gastos medicos 92%"
   ]
  },
  {
   "cell_type": "code",
   "execution_count": 71,
   "metadata": {},
   "outputs": [],
   "source": [
    "best_params={\n",
    "    'max_depth': 20,\n",
    "    'learning_rate': 0.004329892739635385,\n",
    "    'n_estimators': 797,\n",
    "    'subsample': 0.9333420520310073,\n",
    "    'colsample_bytree': 0.2422950171008133\n",
    "}\n",
    "# sin varaibels de gastos medicos 89%"
   ]
  }
 ],
 "metadata": {
  "kernelspec": {
   "display_name": "env",
   "language": "python",
   "name": "python3"
  },
  "language_info": {
   "codemirror_mode": {
    "name": "ipython",
    "version": 3
   },
   "file_extension": ".py",
   "mimetype": "text/x-python",
   "name": "python",
   "nbconvert_exporter": "python",
   "pygments_lexer": "ipython3",
   "version": "3.10.4"
  },
  "orig_nbformat": 4
 },
 "nbformat": 4,
 "nbformat_minor": 2
}
