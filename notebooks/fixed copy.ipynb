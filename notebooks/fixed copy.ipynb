{
 "cells": [
  {
   "cell_type": "code",
   "execution_count": null,
   "metadata": {},
   "outputs": [],
   "source": [
    "%load_ext autoreload\n",
    "%autoreload 2\n",
    "\n",
    "import __confing\n",
    "__confing.change_to_root_folder()"
   ]
  },
  {
   "cell_type": "code",
   "execution_count": null,
   "metadata": {},
   "outputs": [],
   "source": [
    "try:\n",
    "    __confing.execute_notebook('notebooks/data_extract.ipynb')\n",
    "except:\n",
    "    pass"
   ]
  },
  {
   "cell_type": "code",
   "execution_count": null,
   "metadata": {},
   "outputs": [],
   "source": [
    "import pandas as pd\n",
    "import numpy as np\n",
    "\n",
    "from src import value_filler as vf\n",
    "from src import feature_selection as fs\n",
    "from src import data_procces as dp\n",
    "\n",
    "from sklearn.preprocessing import StandardScaler\n",
    "from sklearn.model_selection import train_test_split\n",
    "from sklearn.utils import resample\n",
    "from src import evaluation\n",
    "\n",
    "from xgboost import XGBClassifier\n",
    "from sklearn.metrics import accuracy_score, classification_report, mean_squared_error,roc_auc_score,confusion_matrix\n",
    "from sklearn.model_selection import KFold"
   ]
  },
  {
   "cell_type": "code",
   "execution_count": null,
   "metadata": {},
   "outputs": [],
   "source": [
    "def feature_importance(model, X: pd.DataFrame, y: pd.Series, n: int):\n",
    "    importances = model.feature_importances_\n",
    "    indices = np.argsort(importances)[::-1]\n",
    "    \n",
    "    feature_names_original = list(X.columns)\n",
    "    \n",
    "    target_name = y.name  # Obtener el nombre de la columna objetivo desde la Serie y\n",
    "    \n",
    "    if target_name in feature_names_original:\n",
    "        feature_names_original.remove(target_name)\n",
    "    \n",
    "    max_importance = list(indices[:n])\n",
    "    \n",
    "    nueva_lista = [feature_names_original[i] for i in max_importance]\n",
    "    \n",
    "    return nueva_lista\n"
   ]
  },
  {
   "cell_type": "code",
   "execution_count": null,
   "metadata": {},
   "outputs": [],
   "source": [
    "n='a'\n",
    "df=pd.read_csv(r'data\\custom\\all_waves.csv')\n",
    "target=f'p{n}hosp1y'"
   ]
  },
  {
   "cell_type": "code",
   "execution_count": null,
   "metadata": {},
   "outputs": [],
   "source": [
    "selected = ['pahosp1y','paurina2y','pacholst','pabreast','paprost','papapsm','pamammog','pacage','padrinkcr','padrinkbd','padrinkb','paheight','paweight','pabmi','papaina','papainlv','papainfr','pafatigue','pawheeze','pabreath_m','paswell','pahearaid','pahearing','pasight','paglasses','palunglmt_m','pahrtatlmt','pastroklmt','paarthlmt','palowermoba','pauppermoba','pagrossaa','palgmusaa','pamobilaa','paclims','pasit','paarms','palift','pastoop','pachair','pameals','pashop','pamoney','pameds','pabedhlp','pabed','patoilt','paeat','pabath','pawalkr','padress','pahipcomp','pafall','pafallinj','pamhip','pahipe_m','parxarthr','parxstrok','parxhrtat','pacncrothr','pacncrmeds','pacncrradn','pacncrsurg','pacncrchem','parxdiab','parxdiabo','parxhibp','parechrtatt','parifaany','parfaany','parfcaren','pararcare','padresshlp', 'pawalkhlp', 'pabathehlp', 'paeathlp', 'pabedhlp', 'patoilethlp', 'pamealhlp', 'pashophlp', 'pamedhlp', 'pamoneyhlp','pahibpe','pagender','padiabe','pacancre','palunglmt_m','parxlung_m','pahrtatte','pastroke','paarthre','parifaany','parafaany','pahigov','pasmokev','pasmoken','paoangry','paosleep','paodngr','paodngr','paopace','paoplot','paoalchl','pawthh','paagey','pamomage','padadage','paprmem','parjudg','parorgnz']"
   ]
  },
  {
   "cell_type": "code",
   "execution_count": null,
   "metadata": {},
   "outputs": [],
   "source": [
    "selected = list(set(selected))\n",
    "df = df.dropna(subset=[target]) \n",
    "df = df[selected].copy()"
   ]
  },
  {
   "cell_type": "code",
   "execution_count": null,
   "metadata": {},
   "outputs": [],
   "source": [
    "porcentaje_nulos = df.isnull().sum(axis=1) / len(df.columns)\n",
    "df = df[(df[target] != 0) | (porcentaje_nulos <= 0.4)]"
   ]
  },
  {
   "cell_type": "code",
   "execution_count": null,
   "metadata": {},
   "outputs": [],
   "source": [
    "# fill\n",
    "y = df[target]\n",
    "X = df.drop(target,axis=1)"
   ]
  },
  {
   "cell_type": "code",
   "execution_count": null,
   "metadata": {},
   "outputs": [],
   "source": [
    "from src import feature_selection as fs\n",
    "X = fs.fast_fill(X)"
   ]
  },
  {
   "cell_type": "code",
   "execution_count": null,
   "metadata": {},
   "outputs": [],
   "source": [
    "# split\n",
    "X_train, X_test, y_train, y_test=dp.split_data(X, y, test_size=0.2, random_state=40)"
   ]
  },
  {
   "cell_type": "code",
   "execution_count": null,
   "metadata": {},
   "outputs": [],
   "source": [
    "# # resample \n",
    "X_train, y_train = dp.apply_resample(X_train, y_train,v=2)"
   ]
  },
  {
   "cell_type": "code",
   "execution_count": null,
   "metadata": {},
   "outputs": [],
   "source": [
    "# smote\n",
    "X_train, y_train = dp.apply_smote(X_train, y_train)"
   ]
  },
  {
   "cell_type": "code",
   "execution_count": null,
   "metadata": {},
   "outputs": [],
   "source": [
    "# scaler\n",
    "X_train, X_test = dp.apply_standard_scaler(X_train, X_test)"
   ]
  },
  {
   "cell_type": "code",
   "execution_count": null,
   "metadata": {},
   "outputs": [],
   "source": [
    "model = XGBClassifier()\n",
    "model.fit(X_train, y_train)\n",
    "\n",
    "y_pred_proba = model.predict_proba(X_test)[:, 1]\n",
    "auc = roc_auc_score(y_test, y_pred_proba)\n",
    "print(f'AUC={auc}')\n",
    "print(y_test.value_counts())"
   ]
  },
  {
   "cell_type": "code",
   "execution_count": null,
   "metadata": {},
   "outputs": [],
   "source": [
    "print(feature_importance(model, X, y, 65))"
   ]
  },
  {
   "cell_type": "code",
   "execution_count": null,
   "metadata": {},
   "outputs": [],
   "source": [
    "print(feature_importance(model, X, y, 70))"
   ]
  },
  {
   "cell_type": "code",
   "execution_count": null,
   "metadata": {},
   "outputs": [],
   "source": [
    "print(feature_importance(model, X, y, 75))"
   ]
  },
  {
   "cell_type": "code",
   "execution_count": null,
   "metadata": {},
   "outputs": [],
   "source": [
    "f80=feature_importance(model, X, y, 80)\n",
    "print(feature_importance(model, X, y, 80))"
   ]
  },
  {
   "cell_type": "code",
   "execution_count": null,
   "metadata": {},
   "outputs": [],
   "source": [
    "raise ValueError('error')"
   ]
  },
  {
   "cell_type": "code",
   "execution_count": null,
   "metadata": {},
   "outputs": [],
   "source": [
    "def procesar_dataframe(df, columnas, name):\n",
    "    df_suma = df[columnas].sum(axis=1)\n",
    "    df = df.drop(columns=columnas)\n",
    "    df[name] = np.where(df_suma != 0, 1, np.nan)\n",
    "    return df[name]"
   ]
  },
  {
   "cell_type": "code",
   "execution_count": null,
   "metadata": {},
   "outputs": [],
   "source": [
    "f80=['pagrossaa', 'parifaany', 'pashop', 'pacholst', 'palift', 'pafatigue', 'pabreath_m', 'parxhibp', 'parfcaren', 'paswell', 'padrinkcr', 'paurina2y', 'parxdiabo', 'pararcare', 'pahrtatte', 'pawalkr', 'pafall', 'parxdiab', 'pahigov', 'pafallinj', 'pahipcomp', 'pabathehlp', 'pacncrchem', 'parxhrtat', 'padiabe', 'pahipe_m', 'paprost', 'pacancre', 'parxlung_m', 'pagender', 'pauppermoba', 'pacncrsurg', 'parfaany', 'paopace', 'pacncrradn', 'parxarthr', 'patoilt', 'padrinkb', 'pabath', 'padrinkbd', 'pachair', 'palunglmt_m', 'pastroke', 'papaina', 'pamammog', 'pasmokev', 'parafaany', 'pastroklmt', 'pabedhlp', 'pawheeze', 'pabed', 'papapsm', 'pahrtatlmt', 'pacage', 'pameals', 'paodngr', 'palowermoba', 'palgmusaa', 'pahearaid', 'paeat', 'pahibpe', 'pasit', 'pacncrmeds', 'pabmi', 'pameds', 'parechrtatt', 'paarthlmt', 'pabreast', 'pamobilaa', 'paweight', 'paglasses', 'padresshlp', 'paclims', 'paagey', 'papainfr', 'pahearing', 'pasmoken', 'padadage', 'pamomage', 'pawthh']"
   ]
  },
  {
   "cell_type": "code",
   "execution_count": null,
   "metadata": {},
   "outputs": [],
   "source": [
    "var=vf.find_column_name(df,'dad')\n",
    "b,nb=fs.get_bin_columns(df[var])\n",
    "print(b)"
   ]
  },
  {
   "attachments": {},
   "cell_type": "markdown",
   "metadata": {},
   "source": [
    "### help"
   ]
  },
  {
   "cell_type": "code",
   "execution_count": null,
   "metadata": {},
   "outputs": [],
   "source": [
    "padress=['padressa', 'padresshlp']\n",
    "df2['padress']=procesar_dataframe(df, padress,'padress')"
   ]
  },
  {
   "cell_type": "code",
   "execution_count": null,
   "metadata": {},
   "outputs": [],
   "source": [
    "shop=['pashopa', 'pashophlp']\n",
    "df2['pashop']=procesar_dataframe(df, shop,'pashop')"
   ]
  },
  {
   "cell_type": "code",
   "execution_count": null,
   "metadata": {},
   "outputs": [],
   "source": [
    "pabed=['pabeda', 'pabedhlp', 'pabede']\n",
    "df2['pabed']=procesar_dataframe(df, pabed,'pabed')"
   ]
  },
  {
   "cell_type": "code",
   "execution_count": null,
   "metadata": {},
   "outputs": [],
   "source": [
    "pameal=['pamealsa', 'pamealhlp']\n",
    "df2['pameal']=procesar_dataframe(df, pameal,'pameal')"
   ]
  },
  {
   "cell_type": "code",
   "execution_count": null,
   "metadata": {},
   "outputs": [],
   "source": [
    "pamed=['pamedsa', 'pacncrmeds', 'pamedhlp']\n",
    "df2['pamed']=procesar_dataframe(df, pamed,'pamed')"
   ]
  },
  {
   "cell_type": "code",
   "execution_count": null,
   "metadata": {},
   "outputs": [],
   "source": [
    "pabath=['pabatha', 'pabathehlp']\n",
    "df2['pabath']=procesar_dataframe(df, pabath,'pabath')"
   ]
  },
  {
   "cell_type": "code",
   "execution_count": null,
   "metadata": {},
   "outputs": [],
   "source": [
    "patoilt=['patoilta', 'patoilethlp']\n",
    "df2['patoilt']=procesar_dataframe(df, patoilt,'patoilt')"
   ]
  },
  {
   "cell_type": "code",
   "execution_count": null,
   "metadata": {},
   "outputs": [],
   "source": [
    "eat=['paeat', 'paeathlp']\n",
    "df2=procesar_dataframe(df, eat,'paeat')"
   ]
  },
  {
   "cell_type": "code",
   "execution_count": null,
   "metadata": {},
   "outputs": [],
   "source": [
    "pamobil=['pamobilaa', 'pamobilseva']\n",
    "df2=procesar_dataframe(df, pamobil,'pamobil')"
   ]
  },
  {
   "cell_type": "code",
   "execution_count": null,
   "metadata": {},
   "outputs": [],
   "source": [
    "pawalk=['pawalkra', 'pawalksa', 'pawalk1a', 'pawalkhlp', 'pawalkre']\n",
    "df2=procesar_dataframe(df, pawalk,'pawalk')"
   ]
  },
  {
   "attachments": {},
   "cell_type": "markdown",
   "metadata": {},
   "source": [
    "### diases"
   ]
  },
  {
   "cell_type": "code",
   "execution_count": null,
   "metadata": {},
   "outputs": [],
   "source": [
    "pahrtat=['pahrtatte', 'parxhrtat', 'pahrtatlmt']\n",
    "df2['pahrtat']=procesar_dataframe(df, pahrtat,'pahrtat')"
   ]
  },
  {
   "cell_type": "code",
   "execution_count": null,
   "metadata": {},
   "outputs": [],
   "source": [
    "pastrok=['pastroke', 'parxstrok', 'pastroklmt']\n",
    "df2['pastrok']=procesar_dataframe(df, pastrok,'pastrok')"
   ]
  },
  {
   "cell_type": "code",
   "execution_count": null,
   "metadata": {},
   "outputs": [],
   "source": [
    "parth=['paarthre', 'parxarthr', 'paarthlmt']\n",
    "df2['parth']=procesar_dataframe(df, parth,'parth')"
   ]
  },
  {
   "cell_type": "code",
   "execution_count": null,
   "metadata": {},
   "outputs": [],
   "source": [
    "pacnc=['pacncrchem', 'pacncrsurg', 'pacncrradn', 'pacncrmeds', 'pacncrothr']\n",
    "df2['pacnc']=procesar_dataframe(df, pacnc,'pacnc')"
   ]
  },
  {
   "cell_type": "code",
   "execution_count": null,
   "metadata": {},
   "outputs": [],
   "source": [
    "palung=['palunge_m', 'parxlung_m', 'palunglmt_m']\n",
    "df2['palung']=procesar_dataframe(df, palung,'palung')"
   ]
  },
  {
   "cell_type": "code",
   "execution_count": null,
   "metadata": {},
   "outputs": [],
   "source": [
    "padiab=['padiabe', 'parxdiabo', 'parxdiabi', 'parxdiab']\n",
    "df2['padiab']=procesar_dataframe(df, padiab,'padiab')"
   ]
  },
  {
   "attachments": {},
   "cell_type": "markdown",
   "metadata": {},
   "source": [
    "### care"
   ]
  },
  {
   "cell_type": "code",
   "execution_count": null,
   "metadata": {},
   "outputs": [],
   "source": [
    "pacare=['parascare', 'paraccare', 'pararcare', 'parafcare', 'parapfcare', 'parapfcarehrm', 'pariscare', 'pariccare', 'parircare', 'parircaredpmm', 'parifcare', 'parifcaredpmm', 'parifcarehrm', 'paripfcare', 'paripfcaredpmm', 'paripfcarehrm', 'parscare', 'parccare', 'parrcare', 'parfcare', 'parpfcare', 'parpfcaredpmm', 'parpfcarehrm', 'pagpcare']\n",
    "df2['pacare']=procesar_dataframe(df, pacare,'pacare')"
   ]
  },
  {
   "cell_type": "code",
   "execution_count": null,
   "metadata": {},
   "outputs": [],
   "source": [
    "parfaany=['paracaany', 'parafaany', 'paricaany', 'parifaany', 'parcaany', 'parfaany']\n",
    "df2['parfaany']=procesar_dataframe(df, parfaany,'parfaany')"
   ]
  },
  {
   "attachments": {},
   "cell_type": "markdown",
   "metadata": {},
   "source": [
    "### bicios"
   ]
  },
  {
   "cell_type": "code",
   "execution_count": null,
   "metadata": {},
   "outputs": [],
   "source": [
    "pasmoke=['pasmokev', 'pasmoken']\n",
    "df2['pasmoke']=procesar_dataframe(df, pasmoke,'pasmoke')"
   ]
  },
  {
   "cell_type": "code",
   "execution_count": null,
   "metadata": {},
   "outputs": [],
   "source": [
    "padrink=['padrink', 'padrinkb', 'padrinkcut', 'padrinkcr', 'padrinkbd', 'padrinknr']\n",
    "df2['padrink']=procesar_dataframe(df, padrink,'padrink')"
   ]
  },
  {
   "attachments": {},
   "cell_type": "markdown",
   "metadata": {},
   "source": [
    "### inj"
   ]
  },
  {
   "cell_type": "code",
   "execution_count": null,
   "metadata": {},
   "outputs": [],
   "source": [
    "pafall=['pafall', 'pafallinj']\n",
    "df2['pafall']=procesar_dataframe(df, pafall,'pafall')"
   ]
  },
  {
   "cell_type": "code",
   "execution_count": null,
   "metadata": {},
   "outputs": [],
   "source": [
    "pahip=['pahipe_m', 'pahipriv', 'pahipcomp', 'pahipsft', 'pahiptryu', 'pahipref']\n",
    "df2['pahip']=procesar_dataframe(df, pahip,'pahip')"
   ]
  },
  {
   "cell_type": "code",
   "execution_count": null,
   "metadata": {},
   "outputs": [],
   "source": [
    "papain=['papainfr', 'papaina']\n",
    "df2['papain']=procesar_dataframe(df, papain,'papain')"
   ]
  },
  {
   "attachments": {},
   "cell_type": "markdown",
   "metadata": {},
   "source": [
    "### independiente"
   ]
  },
  {
   "cell_type": "code",
   "execution_count": null,
   "metadata": {},
   "outputs": [],
   "source": [
    "len(['palift','pawthh','pamomage','padadage','pahearing','paagey','paclims','parechrtatt','paglasses','paweight','pabreast','pasita','pabmi','pagrossaa','pabreath_m','paodngr','pahearaid','palgmusaa','palowermoba','pacage','papapsm','pacholst','pabreath_m','pafatigue','paswell','paurina2y','pahrtatte','pahigov','pacncrchem','paprost','pacancre','pagender','pauppermoba','paopace','pachaira','pamammog','pawheeze'])"
   ]
  }
 ],
 "metadata": {
  "kernelspec": {
   "display_name": "env",
   "language": "python",
   "name": "python3"
  },
  "language_info": {
   "codemirror_mode": {
    "name": "ipython",
    "version": 3
   },
   "file_extension": ".py",
   "mimetype": "text/x-python",
   "name": "python",
   "nbconvert_exporter": "python",
   "pygments_lexer": "ipython3",
   "version": "3.10.4"
  },
  "orig_nbformat": 4
 },
 "nbformat": 4,
 "nbformat_minor": 2
}
