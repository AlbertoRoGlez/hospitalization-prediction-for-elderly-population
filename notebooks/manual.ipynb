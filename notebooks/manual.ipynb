{
 "cells": [
  {
   "cell_type": "code",
   "execution_count": 1,
   "metadata": {},
   "outputs": [
    {
     "name": "stdout",
     "output_type": "stream",
     "text": [
      "Current directory: c:\\Users\\Leo\\OneDrive\\Escritorio\\Final Proyect\n"
     ]
    }
   ],
   "source": [
    "%load_ext autoreload\n",
    "%autoreload 2\n",
    "\n",
    "import __confing\n",
    "__confing.change_to_root_folder()"
   ]
  },
  {
   "cell_type": "code",
   "execution_count": 2,
   "metadata": {},
   "outputs": [],
   "source": [
    "try:\n",
    "    __confing.execute_notebook('notebooks/data_extract.ipynb')\n",
    "except:\n",
    "    pass"
   ]
  },
  {
   "cell_type": "code",
   "execution_count": 3,
   "metadata": {},
   "outputs": [],
   "source": [
    "import pandas as pd\n",
    "import numpy as np\n",
    "\n",
    "from src import value_filler as vf\n",
    "from src import feature_selection as fs\n",
    "from src import data_procces as dp\n",
    "\n",
    "from sklearn.preprocessing import StandardScaler\n",
    "from sklearn.model_selection import train_test_split\n",
    "from sklearn.utils import resample\n",
    "from src import evaluation\n",
    "\n",
    "from xgboost import XGBClassifier\n",
    "from sklearn.metrics import accuracy_score, classification_report, mean_squared_error,roc_auc_score,confusion_matrix\n",
    "from sklearn.model_selection import KFold"
   ]
  },
  {
   "cell_type": "code",
   "execution_count": 4,
   "metadata": {},
   "outputs": [],
   "source": [
    "def feature_importance(model, X: pd.DataFrame, y: pd.Series, n: int):\n",
    "    importances = model.feature_importances_\n",
    "    indices = np.argsort(importances)[::-1]\n",
    "    \n",
    "    feature_names_original = list(X.columns)\n",
    "    \n",
    "    target_name = y.name  # Obtener el nombre de la columna objetivo desde la Serie y\n",
    "    \n",
    "    if target_name in feature_names_original:\n",
    "        feature_names_original.remove(target_name)\n",
    "    \n",
    "    max_importance = list(indices[:n])\n",
    "    \n",
    "    nueva_lista = [feature_names_original[i] for i in max_importance]\n",
    "    \n",
    "    return nueva_lista\n"
   ]
  },
  {
   "cell_type": "code",
   "execution_count": 44,
   "metadata": {},
   "outputs": [],
   "source": [
    "n='a'\n",
    "df=pd.read_csv(r'data\\custom\\all_waves.csv')\n",
    "target=f'p{n}hosp1y'"
   ]
  },
  {
   "cell_type": "code",
   "execution_count": null,
   "metadata": {},
   "outputs": [
    {
     "data": {
      "text/plain": [
       "111"
      ]
     },
     "execution_count": 6,
     "metadata": {},
     "output_type": "execute_result"
    }
   ],
   "source": [
    "selected = ['pahosp1y','padoctor1y','paurina2y','pacholst','pabreast','paprost','papapsm','pamammog','pacage','padrinkcr','padrinkbd','padrinkb','paheight','paweight','pabmi','papaina','papainlv','papainfr','pafatigue','pawheeze','pabreath_m','paswell','pahearaid','pahearing','pasight','paglasses','palunglmt_m','pahrtatlmt','pastroklmt','paarthlmt','palowermoba','pauppermoba','pagrossaa','palgmusaa','pamobilaa','paclims','pasit','paarms','palift','pastoop','pachair','pameals','pashop','pamoney','pameds','pabedhlp','pabed','patoilt','paeat','pabath','pawalkr','padress','pahipcomp','pafall','pafallinj','pamhip','pahipe_m','parxarthr','parxstrok','parxhrtat','pacncrothr','pacncrmeds','pacncrradn','pacncrsurg','pacncrchem','parxdiab','parxdiabo','parxhibp','parechrtatt','parifaany','parfaany','parfcaren','pararcare','padresshlp', 'pawalkhlp', 'pabathehlp', 'paeathlp', 'pabedhlp', 'patoilethlp', 'pamealhlp', 'pashophlp', 'pamedhlp', 'pamoneyhlp','pahibpe','pagender','padiabe','pacancre','palunglmt_m','parxlung_m','pahrtatte','pastroke','paarthre','parifaany','parafaany','pahigov','pasmokev','pasmoken','paoangry','paosleep','paodngr','paodngr','paopace','paoplot','paoalchl','pawthh','paagey','pamomage','padadage','paprmem','parjudg','parorgnz']\n",
    "len(selected)"
   ]
  },
  {
   "cell_type": "code",
   "execution_count": 25,
   "metadata": {},
   "outputs": [],
   "source": [
    "selected=f85"
   ]
  },
  {
   "cell_type": "code",
   "execution_count": null,
   "metadata": {},
   "outputs": [],
   "source": [
    "selected = list(set(selected))\n",
    "\n",
    "df = df.dropna(subset=[target]) \n",
    "df = df[selected].copy()"
   ]
  },
  {
   "cell_type": "code",
   "execution_count": null,
   "metadata": {},
   "outputs": [],
   "source": [
    "porcentaje_nulos = df.isnull().sum(axis=1) / len(df.columns)\n",
    "df = df[(df[target] != 0) | (porcentaje_nulos <= 0.5)]"
   ]
  },
  {
   "cell_type": "code",
   "execution_count": null,
   "metadata": {},
   "outputs": [],
   "source": [
    "# fill\n",
    "y = df[target]\n",
    "X = df.drop(target,axis=1)"
   ]
  },
  {
   "cell_type": "code",
   "execution_count": null,
   "metadata": {},
   "outputs": [],
   "source": [
    "from src import feature_selection as fs\n",
    "X = fs.fast_fill(X)"
   ]
  },
  {
   "cell_type": "code",
   "execution_count": null,
   "metadata": {},
   "outputs": [],
   "source": [
    "# split\n",
    "X_train, X_test, y_train, y_test=dp.split_data(X, y, test_size=0.2, random_state=40)"
   ]
  },
  {
   "cell_type": "code",
   "execution_count": null,
   "metadata": {},
   "outputs": [],
   "source": [
    "# # resample \n",
    "# X_train, y_train = dp.apply_resample(X_train, y_train,v=2)"
   ]
  },
  {
   "cell_type": "code",
   "execution_count": null,
   "metadata": {},
   "outputs": [],
   "source": [
    "# smote\n",
    "X_train, y_train = dp.apply_smote(X_train, y_train)"
   ]
  },
  {
   "cell_type": "code",
   "execution_count": null,
   "metadata": {},
   "outputs": [],
   "source": [
    "# scaler\n",
    "X_train, X_test = dp.apply_standard_scaler(X_train, X_test)"
   ]
  },
  {
   "cell_type": "code",
   "execution_count": null,
   "metadata": {},
   "outputs": [],
   "source": [
    "params={'max_depth': 28, 'subsample': 0.6559545947005226, 'colsample_bytree': 0.9075616505206274, 'eta': 0.03568753700048324, 'min_child_weight': 2, 'learning_rate': 0.0869908981133205, 'n_estimators': 571}"
   ]
  },
  {
   "cell_type": "code",
   "execution_count": null,
   "metadata": {},
   "outputs": [
    {
     "name": "stdout",
     "output_type": "stream",
     "text": [
      "AUC=0.8970324396109357\n",
      "pahosp1y\n",
      "0.0    20591\n",
      "1.0     2919\n",
      "Name: count, dtype: int64\n"
     ]
    }
   ],
   "source": [
    "model = XGBClassifier(**params)\n",
    "model.fit(X_train, y_train)\n",
    "\n",
    "y_pred_proba = model.predict_proba(X_test)[:, 1]\n",
    "auc = roc_auc_score(y_test, y_pred_proba)\n",
    "print(f'AUC={auc}')\n",
    "print(y_test.value_counts())"
   ]
  },
  {
   "cell_type": "code",
   "execution_count": null,
   "metadata": {},
   "outputs": [
    {
     "name": "stdout",
     "output_type": "stream",
     "text": [
      "['palift', 'padoctor1y', 'paoalchl', 'pashop', 'pacholst', 'pacncrradn', 'pabathehlp', 'pacncrsurg', 'padrinkcr', 'pastroklmt', 'pacncrchem', 'pagender', 'paodngr', 'pafallinj', 'parxhrtat', 'parxstrok', 'palunglmt_m', 'pasit', 'pacancre', 'padresshlp', 'parfcaren', 'parxlung_m', 'paurina2y', 'pahearaid', 'pahrtatlmt', 'paarthlmt', 'pacncrmeds', 'pabedhlp', 'pamedhlp', 'pahigov', 'pararcare', 'pahipe_m', 'paeathlp', 'patoilethlp', 'padrinkbd', 'pahipcomp', 'pamoneyhlp', 'pahrtatte', 'paoplot', 'pameds', 'paarms', 'pastroke', 'paprost', 'pawalkhlp', 'pamealhlp', 'parxarthr', 'parechrtatt', 'pashophlp', 'pagrossaa', 'pacncrothr', 'pahosp1y']\n"
     ]
    }
   ],
   "source": [
    "f50=feature_importance(model, X, y, 50)\n",
    "f50.append('pahosp1y')\n",
    "print(f50)"
   ]
  },
  {
   "cell_type": "code",
   "execution_count": null,
   "metadata": {},
   "outputs": [
    {
     "name": "stdout",
     "output_type": "stream",
     "text": [
      "['palift', 'padoctor1y', 'paoalchl', 'pashop', 'pacholst', 'pacncrradn', 'pabathehlp', 'pacncrsurg', 'padrinkcr', 'pastroklmt', 'pacncrchem', 'pagender', 'paodngr', 'pafallinj', 'parxhrtat', 'parxstrok', 'palunglmt_m', 'pasit', 'pacancre', 'padresshlp', 'parfcaren', 'parxlung_m', 'paurina2y', 'pahearaid', 'pahrtatlmt', 'paarthlmt', 'pacncrmeds', 'pabedhlp', 'pamedhlp', 'pahigov', 'pararcare', 'pahipe_m', 'paeathlp', 'patoilethlp', 'padrinkbd', 'pahipcomp', 'pamoneyhlp', 'pahrtatte', 'paoplot', 'pameds', 'paarms', 'pastroke', 'paprost', 'pawalkhlp', 'pamealhlp', 'parxarthr', 'parechrtatt', 'pashophlp', 'pagrossaa', 'pacncrothr', 'parafaany', 'pawalkr', 'pamoney', 'parfaany', 'padrinkb', 'pahosp1y']\n"
     ]
    }
   ],
   "source": [
    "f55=feature_importance(model, X, y, 55)\n",
    "f55.append('pahosp1y')\n",
    "print(f55)"
   ]
  },
  {
   "cell_type": "code",
   "execution_count": null,
   "metadata": {},
   "outputs": [
    {
     "name": "stdout",
     "output_type": "stream",
     "text": [
      "['palift', 'padoctor1y', 'paoalchl', 'pashop', 'pacholst', 'pacncrradn', 'pabathehlp', 'pacncrsurg', 'padrinkcr', 'pastroklmt', 'pacncrchem', 'pagender', 'paodngr', 'pafallinj', 'parxhrtat', 'parxstrok', 'palunglmt_m', 'pasit', 'pacancre', 'padresshlp', 'parfcaren', 'parxlung_m', 'paurina2y', 'pahearaid', 'pahrtatlmt', 'paarthlmt', 'pacncrmeds', 'pabedhlp', 'pamedhlp', 'pahigov', 'pararcare', 'pahipe_m', 'paeathlp', 'patoilethlp', 'padrinkbd', 'pahipcomp', 'pamoneyhlp', 'pahrtatte', 'paoplot', 'pameds', 'paarms', 'pastroke', 'paprost', 'pawalkhlp', 'pamealhlp', 'parxarthr', 'parechrtatt', 'pashophlp', 'pagrossaa', 'pacncrothr', 'parafaany', 'pawalkr', 'pamoney', 'parfaany', 'padrinkb', 'pacage', 'pamhip', 'pabreath_m', 'pabed', 'paoangry', 'pafatigue', 'pameals', 'pamammog', 'parjudg', 'paeat', 'pahosp1y']\n"
     ]
    }
   ],
   "source": [
    "f65=feature_importance(model, X, y, 65)\n",
    "f65.append('pahosp1y')\n",
    "print(f65)"
   ]
  },
  {
   "cell_type": "code",
   "execution_count": null,
   "metadata": {},
   "outputs": [
    {
     "name": "stdout",
     "output_type": "stream",
     "text": [
      "['palift', 'padoctor1y', 'paoalchl', 'pashop', 'pacholst', 'pacncrradn', 'pabathehlp', 'pacncrsurg', 'padrinkcr', 'pastroklmt', 'pacncrchem', 'pagender', 'paodngr', 'pafallinj', 'parxhrtat', 'parxstrok', 'palunglmt_m', 'pasit', 'pacancre', 'padresshlp', 'parfcaren', 'parxlung_m', 'paurina2y', 'pahearaid', 'pahrtatlmt', 'paarthlmt', 'pacncrmeds', 'pabedhlp', 'pamedhlp', 'pahigov', 'pararcare', 'pahipe_m', 'paeathlp', 'patoilethlp', 'padrinkbd', 'pahipcomp', 'pamoneyhlp', 'pahrtatte', 'paoplot', 'pameds', 'paarms', 'pastroke', 'paprost', 'pawalkhlp', 'pamealhlp', 'parxarthr', 'parechrtatt', 'pashophlp', 'pagrossaa', 'pacncrothr', 'parafaany', 'pawalkr', 'pamoney', 'parfaany', 'padrinkb', 'pacage', 'pamhip', 'pabreath_m', 'pabed', 'paoangry', 'pafatigue', 'pameals', 'pamammog', 'parjudg', 'paeat', 'parxhibp', 'papaina', 'parxdiab', 'paswell', 'parorgnz', 'pahosp1y']\n"
     ]
    }
   ],
   "source": [
    "f70=feature_importance(model, X, y, 70)\n",
    "f70.append('pahosp1y')\n",
    "print(f70)"
   ]
  },
  {
   "cell_type": "code",
   "execution_count": null,
   "metadata": {},
   "outputs": [
    {
     "name": "stdout",
     "output_type": "stream",
     "text": [
      "['palift', 'padoctor1y', 'paoalchl', 'pashop', 'pacholst', 'pacncrradn', 'pabathehlp', 'pacncrsurg', 'padrinkcr', 'pastroklmt', 'pacncrchem', 'pagender', 'paodngr', 'pafallinj', 'parxhrtat', 'parxstrok', 'palunglmt_m', 'pasit', 'pacancre', 'padresshlp', 'parfcaren', 'parxlung_m', 'paurina2y', 'pahearaid', 'pahrtatlmt', 'paarthlmt', 'pacncrmeds', 'pabedhlp', 'pamedhlp', 'pahigov', 'pararcare', 'pahipe_m', 'paeathlp', 'patoilethlp', 'padrinkbd', 'pahipcomp', 'pamoneyhlp', 'pahrtatte', 'paoplot', 'pameds', 'paarms', 'pastroke', 'paprost', 'pawalkhlp', 'pamealhlp', 'parxarthr', 'parechrtatt', 'pashophlp', 'pagrossaa', 'pacncrothr', 'parafaany', 'pawalkr', 'pamoney', 'parfaany', 'padrinkb', 'pacage', 'pamhip', 'pabreath_m', 'pabed', 'paoangry', 'pafatigue', 'pameals', 'pamammog', 'parjudg', 'paeat', 'parxhibp', 'papaina', 'parxdiab', 'paswell', 'parorgnz', 'pasmoken', 'palgmusaa', 'parifaany', 'pabath', 'pamobilaa', 'pahosp1y']\n"
     ]
    }
   ],
   "source": [
    "f75=feature_importance(model, X, y, 75)\n",
    "f75.append('pahosp1y')\n",
    "print(f75)"
   ]
  },
  {
   "cell_type": "code",
   "execution_count": null,
   "metadata": {},
   "outputs": [],
   "source": [
    "raise ValueError('STOP')"
   ]
  },
  {
   "cell_type": "code",
   "execution_count": null,
   "metadata": {},
   "outputs": [
    {
     "name": "stdout",
     "output_type": "stream",
     "text": [
      "['palift', 'padoctor1y', 'paoalchl', 'pashop', 'pacholst', 'pacncrradn', 'pabathehlp', 'pacncrsurg', 'padrinkcr', 'pastroklmt', 'pacncrchem', 'pagender', 'paodngr', 'pafallinj', 'parxhrtat', 'parxstrok', 'palunglmt_m', 'pasit', 'pacancre', 'padresshlp', 'parfcaren', 'parxlung_m', 'paurina2y', 'pahearaid', 'pahrtatlmt', 'paarthlmt', 'pacncrmeds', 'pabedhlp', 'pamedhlp', 'pahigov', 'pararcare', 'pahipe_m', 'paeathlp', 'patoilethlp', 'padrinkbd', 'pahipcomp', 'pamoneyhlp', 'pahrtatte', 'paoplot', 'pameds', 'paarms', 'pastroke', 'paprost', 'pawalkhlp', 'pamealhlp', 'parxarthr', 'parechrtatt', 'pashophlp', 'pagrossaa', 'pacncrothr', 'parafaany', 'pawalkr', 'pamoney', 'parfaany', 'padrinkb', 'pacage', 'pamhip', 'pabreath_m', 'pabed', 'paoangry', 'pafatigue', 'pameals', 'pamammog', 'parjudg', 'paeat', 'parxhibp', 'papaina', 'parxdiab', 'paswell', 'parorgnz', 'pasmoken', 'palgmusaa', 'parifaany', 'pabath', 'pamobilaa', 'padiabe', 'pasmokev', 'papainfr', 'parxdiabo', 'pafall', 'pahosp1y']\n"
     ]
    }
   ],
   "source": [
    "f80=feature_importance(model, X, y, 80)\n",
    "f80.append('pahosp1y')\n",
    "print(f80)"
   ]
  },
  {
   "cell_type": "code",
   "execution_count": null,
   "metadata": {},
   "outputs": [],
   "source": [
    "f85=feature_importance(model, X, y, 85)\n",
    "f85.append('pahosp1y')\n",
    "print(f85)"
   ]
  },
  {
   "cell_type": "code",
   "execution_count": null,
   "metadata": {},
   "outputs": [
    {
     "ename": "ValueError",
     "evalue": "",
     "output_type": "error",
     "traceback": [
      "\u001b[1;31m---------------------------------------------------------------------------\u001b[0m",
      "\u001b[1;31mValueError\u001b[0m                                Traceback (most recent call last)",
      "Cell \u001b[1;32mIn[42], line 1\u001b[0m\n\u001b[1;32m----> 1\u001b[0m \u001b[39mraise\u001b[39;00m \u001b[39mValueError\u001b[39;00m()\n",
      "\u001b[1;31mValueError\u001b[0m: "
     ]
    }
   ],
   "source": [
    "raise ValueError()"
   ]
  },
  {
   "cell_type": "code",
   "execution_count": null,
   "metadata": {},
   "outputs": [],
   "source": [
    "import optuna\n",
    "def objective(trial):\n",
    "    # Definir los hiperparámetros a sintonizar\n",
    "    params = {\n",
    "        'booster': 'gbtree',\n",
    "        'max_depth': trial.suggest_int('max_depth', 7, 45),\n",
    "        'subsample': trial.suggest_float('subsample', 0.5, 1.0),\n",
    "        'colsample_bytree': trial.suggest_float('colsample_bytree', 0.5, 1.0),\n",
    "        'eta': trial.suggest_float('eta', 0.01, 0.1),\n",
    "        'min_child_weight': trial.suggest_int('min_child_weight', 1, 5),\n",
    "        'learning_rate': trial.suggest_float('learning_rate', 0.001, 1.0),\n",
    "        'n_estimators': trial.suggest_int('n_estimators', 300, 900),\n",
    "    }\n",
    "    \n",
    "    # Entrenar el modelo con los hiperparámetros seleccionados\n",
    "    model = XGBClassifier(**params)\n",
    "    model.fit(X_train, y_train)\n",
    "    # Predecir las probabilidades en el conjunto de prueba y calcular el AUC\n",
    "    y_pred_proba = model.predict_proba(X_test)[:, 1]\n",
    "    auc = roc_auc_score(y_test, y_pred_proba)\n",
    "    \n",
    "    return auc"
   ]
  }
 ],
 "metadata": {
  "kernelspec": {
   "display_name": "env",
   "language": "python",
   "name": "python3"
  },
  "language_info": {
   "codemirror_mode": {
    "name": "ipython",
    "version": 3
   },
   "file_extension": ".py",
   "mimetype": "text/x-python",
   "name": "python",
   "nbconvert_exporter": "python",
   "pygments_lexer": "ipython3",
   "version": "3.10.4"
  },
  "orig_nbformat": 4
 },
 "nbformat": 4,
 "nbformat_minor": 2
}
