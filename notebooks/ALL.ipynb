{
 "cells": [
  {
   "cell_type": "code",
   "execution_count": 1,
   "metadata": {},
   "outputs": [
    {
     "name": "stdout",
     "output_type": "stream",
     "text": [
      "Current directory: c:\\Users\\Leo\\OneDrive\\Escritorio\\Final Proyect\n"
     ]
    }
   ],
   "source": [
    "%load_ext autoreload\n",
    "%autoreload 2\n",
    "\n",
    "import __confing\n",
    "__confing.change_to_root_folder()"
   ]
  },
  {
   "cell_type": "code",
   "execution_count": 2,
   "metadata": {},
   "outputs": [],
   "source": [
    "try:\n",
    "    __confing.execute_notebook('notebooks/data_extract.ipynb')\n",
    "except:\n",
    "    pass"
   ]
  },
  {
   "cell_type": "code",
   "execution_count": 3,
   "metadata": {},
   "outputs": [],
   "source": [
    "import pandas as pd\n",
    "import numpy as np\n",
    "\n",
    "from src import value_filler as vf\n",
    "from src import feature_selection as fs\n",
    "from src import data_procces as dp\n",
    "\n",
    "from sklearn.preprocessing import StandardScaler\n",
    "from sklearn.model_selection import train_test_split\n",
    "from sklearn.utils import resample\n",
    "from src import evaluation\n",
    "\n",
    "from xgboost import XGBClassifier\n",
    "import lightgbm as lgb\n",
    "from sklearn.metrics import accuracy_score, classification_report, mean_squared_error,roc_auc_score,confusion_matrix\n",
    "from sklearn.model_selection import KFold\n",
    "\n",
    "\n",
    "from sklearn.preprocessing import PowerTransformer\n"
   ]
  },
  {
   "cell_type": "code",
   "execution_count": 4,
   "metadata": {},
   "outputs": [],
   "source": [
    "def feature_importance(model, X: pd.DataFrame, y: pd.Series, n: int):\n",
    "    importances = model.feature_importances_\n",
    "    indices = np.argsort(importances)[::-1]\n",
    "    \n",
    "    feature_names_original = list(X.columns)\n",
    "    \n",
    "    target_name = y.name  # Obtener el nombre de la columna objetivo desde la Serie y\n",
    "    \n",
    "    if target_name in feature_names_original:\n",
    "        feature_names_original.remove(target_name)\n",
    "    \n",
    "    max_importance = list(indices[:n])\n",
    "    \n",
    "    nueva_lista = [feature_names_original[i] for i in max_importance]\n",
    "    \n",
    "    return nueva_lista\n"
   ]
  },
  {
   "cell_type": "code",
   "execution_count": 5,
   "metadata": {},
   "outputs": [],
   "source": [
    "n='a'\n",
    "df=pd.read_csv(r'data\\custom\\all_waves.csv')\n",
    "target=f'p{n}hosp1y'\n",
    "drop=['paoophos1y', 'paoophosf1y','pahspnit1y']"
   ]
  },
  {
   "cell_type": "code",
   "execution_count": 6,
   "metadata": {},
   "outputs": [],
   "source": [
    "df = df.drop(columns=drop)\n",
    "df = df.dropna(subset=[target]) "
   ]
  },
  {
   "cell_type": "code",
   "execution_count": 17,
   "metadata": {},
   "outputs": [],
   "source": [
    "# df = df[f100].copy()"
   ]
  },
  {
   "cell_type": "code",
   "execution_count": 18,
   "metadata": {},
   "outputs": [],
   "source": [
    "porcentaje_nulos = df.isnull().sum(axis=1) / len(df.columns)\n",
    "# df = df[(df[target] != 0) | (porcentaje_nulos <= 0.55)]"
   ]
  },
  {
   "cell_type": "code",
   "execution_count": 19,
   "metadata": {},
   "outputs": [],
   "source": [
    "# fill\n",
    "y = df[target]\n",
    "X = df.drop(target,axis=1)"
   ]
  },
  {
   "cell_type": "code",
   "execution_count": 20,
   "metadata": {},
   "outputs": [],
   "source": [
    "X = fs.fast_fill(X)"
   ]
  },
  {
   "cell_type": "code",
   "execution_count": 21,
   "metadata": {},
   "outputs": [],
   "source": [
    "# split\n",
    "X_train, X_test, y_train, y_test=dp.split_data(X, y, test_size=0.2, random_state=42)\n"
   ]
  },
  {
   "cell_type": "code",
   "execution_count": 22,
   "metadata": {},
   "outputs": [],
   "source": [
    "# smote\n",
    "X_train, y_train = dp.apply_smote(X_train, y_train)"
   ]
  },
  {
   "cell_type": "code",
   "execution_count": 23,
   "metadata": {},
   "outputs": [],
   "source": [
    "# scaler\n",
    "X_train, X_test = dp.apply_standard_scaler(X_train, X_test)"
   ]
  },
  {
   "cell_type": "code",
   "execution_count": 24,
   "metadata": {},
   "outputs": [],
   "source": [
    "model = XGBClassifier()\n",
    "model.fit(X_train, y_train)\n",
    "\n",
    "y_pred_proba = model.predict_proba(X_test)[:, 1]\n",
    "auc = roc_auc_score(y_test, y_pred_proba)\n",
    "print(f'AUC={auc}')\n",
    "print(y_test.value_counts())"
   ]
  },
  {
   "cell_type": "code",
   "execution_count": null,
   "metadata": {},
   "outputs": [
    {
     "name": "stdout",
     "output_type": "stream",
     "text": [
      "['pauppermobm', 'pamobilaa', 'paiadlfourm', 'pagrossa', 'pawalksa', 'pamobilam', 'parpfcaredpmm', 'pauppermoba', 'paadltota_m', 'pagrossaa', 'panagi8a', 'pawalks', 'papusha', 'papush', 'paraccaredpmm', 'pahaluc', 'pauppermob', 'padepres', 'parxhibp', 'padoctor1y', 'pacholst', 'parrcarehrm', 'paadltot_m', 'paracaany', 'pararcare', 'pafall', 'pamobila', 'paswell', 'pacesdm_m', 'palifein_m', 'parccaredpmm', 'pahrtatte', 'padoctim1y', 'pawalkra', 'pasmokev', 'pahipe_m', 'pafatigue', 'pastoopa', 'pahltc', 'parxdiab', 'panagi8', 'parxdiabo', 'pajoga', 'palifta', 'pafallinj', 'pabathehlp', 'pacncrothr', 'pashlt', 'pagender', 'pawalkr', 'paoopmd1y', 'pajog', 'pasleepr', 'pahenum', 'palunge_m', 'paoopden1y', 'pacncrchem', 'padentst1y', 'palbrf_m', 'paoutpt1y', 'paooposrg1y', 'parxhrtat', 'paoopdenf1y', 'parpfcare', 'paunemp', 'pacancre', 'parxdiabi', 'pacovs_m', 'padiabe', 'paoopdocf1y', 'paoopdoc1y', 'pagrossam', 'pamstath', 'pahigov', 'paadltotm_m', 'padrink', 'pawalkre', 'paoopfhho1y', 'paoopmdf1y', 'pamstat', 'paripfcare', 'palift', 'paadla_m', 'paadlaa_m', 'pafiqscore11', 'parxarthr', 'parxstrok', 'pawork', 'paiqscore2', 'papaina', 'patoilt', 'pachair', 'paoopfhhof1y', 'pareccancr', 'cpindex', 'pacncrmeds', 'parxlung_m', 'paarthlmt', 'paraccaredpm', 'paclim1a', 'pahosp1y']\n"
     ]
    }
   ],
   "source": [
    "f100=feature_importance(model, X, y, 100)\n",
    "f100.append('pahosp1y')\n",
    "print(f100)"
   ]
  },
  {
   "cell_type": "code",
   "execution_count": null,
   "metadata": {},
   "outputs": [
    {
     "ename": "ValueError",
     "evalue": "",
     "output_type": "error",
     "traceback": [
      "\u001b[1;31m---------------------------------------------------------------------------\u001b[0m",
      "\u001b[1;31mValueError\u001b[0m                                Traceback (most recent call last)",
      "Cell \u001b[1;32mIn[15], line 1\u001b[0m\n\u001b[1;32m----> 1\u001b[0m \u001b[39mraise\u001b[39;00m \u001b[39mValueError\u001b[39;00m(\u001b[39m'\u001b[39m\u001b[39m'\u001b[39m)\n",
      "\u001b[1;31mValueError\u001b[0m: "
     ]
    }
   ],
   "source": [
    "raise ValueError('')"
   ]
  },
  {
   "attachments": {},
   "cell_type": "markdown",
   "metadata": {},
   "source": [
    "# ---"
   ]
  },
  {
   "cell_type": "code",
   "execution_count": null,
   "metadata": {},
   "outputs": [],
   "source": [
    "['parpfcaredpmm', 'pagrossaa', 'pagrossa', 'palowermobm', 'panagi8a', 'pauppermobm', 'pamobilam', 'paiadlfourm', 'pamobilaa', 'papush', 'papusha', 'parafcarehrm', 'palift', 'pawalks', 'pawalksa', 'parccaredpmm', 'parafcaredpmm', 'palifta', 'pararcare', 'pasmokev', 'parxhibp', 'padoctor1y', 'pafall', 'pasleepr', 'pahrtatte', 'pahaluc', 'pamobila', 'padoctim1y', 'pacholst', 'palifein_m', 'pahipe_m', 'parfaany', 'paswell', 'padiabe', 'pacesdm_m', 'parxdiab', 'pagender', 'pacncrothr', 'parapfcare', 'pafallinj', 'palunge_m', 'pawalkre', 'pahltc', 'pacancre', 'panagi8', 'pafatigue', 'padepres', 'paoopmd1y', 'parxhrtat', 'pabreath_m', 'pahenum', 'pabathehlp', 'paoopden1y', 'pajog', 'pariccarehrm', 'pashlt', 'patoilt', 'paoutpt1y', 'padentst1y', 'pacncrchem', 'parxdiabi', 'padrink', 'paprchmem', 'paoopdenf1y', 'pampart', 'paooposrg1y', 'paoopdoc1y', 'paoopmdf1y', 'papaina', 'paunemp', 'paoopfhho1y', 'pabede', 'paclim1a', 'pahigov', 'pacncrsurg', 'paoopdocf1y', 'pamstat', 'papenic', 'pastroke', 'pacovs_m', 'paballf', 'parxarthr', 'pamstath', 'paeffort', 'paiqscore15', 'pawalkhlp', 'patoilta', 'parxstrok', 'panovisual', 'paiqscore11', 'pabed', 'pacncrradn', 'parxlung_m', 'pagpcarehr', 'pastroklmt', 'pachair', 'pagpcare', 'padrinkcut', 'paooposrgf1y', 'pacagem', 'paiadlfour', 'paifpubo', 'paoopfhhof1y', 'parifaany', 'parxdiabo', 'paprost', 'palbrf_m', 'pamrct', 'papapsm', 'paifearn', 'pahearing', 'paopen', 'pauppermob', 'paarthre', 'paiothr', 'pabalrtsec', 'pabedhlp', 'pamwaist', 'pareccancr', 'paracany', 'paarthlmt', 'pagrossam', 'pamheight', 'paiwm', 'parpfcare', 'pariscare', 'panagi10a', 'paglasses', 'pamwhratio', 'padrinknr', 'cpindex', 'papainfr', 'pawthh', 'padimea', 'paiwy', 'pameals', 'pamoneyhlp', 'paiqscore2', 'pacovr_m', 'palunglmt_m', 'parccaren', 'paslfemp', 'pariccaredpm', 'paenerg', 'pawork', 'pasmoken', 'paracaany', 'padrinkbd', 'padrinkd', 'paissdi']"
   ]
  },
  {
   "cell_type": "code",
   "execution_count": null,
   "metadata": {},
   "outputs": [
    {
     "data": {
      "text/plain": [
       "81"
      ]
     },
     "execution_count": 17,
     "metadata": {},
     "output_type": "execute_result"
    }
   ],
   "source": [
    "a=['pawalksa', 'paiadlfourm', 'pagrossa', 'pamobilam', 'pauppermoba', 'palowermobm', 'pauppermobm', 'parpfcaredpmm', 'parccaredpmm', 'parrcarehrm', 'pawalks', 'pagrossaa', 'pamobilseva', 'pamobilaa', 'papush', 'pahaluc', 'pauppermob', 'parxhibp', 'papusha', 'pararcare', 'pacesdm_m', 'pacholst', 'padoctor1y', 'palift', 'pafatigue', 'padepres', 'padoctim1y', 'pahipe_m', 'pabathehlp', 'parxdiab', 'pagender', 'pasleepr', 'pamobila', 'paswell', 'pahltc', 'pahrtatte', 'pasmokev', 'parapfcare', 'parafcaredpmm', 'pafall', 'pararcaredpmm', 'pajog', 'palifein_m', 'pamammog', 'pameals', 'paoopmd1y', 'padrink', 'palunge_m', 'pafallinj', 'pashlt', 'pamobilsev', 'papenic', 'pahenum', 'paoopden1y', 'pacncrothr', 'parxdiabi', 'parxarthr', 'paunemp', 'padentst1y', 'pastroke', 'paprchmem', 'parxdiabo', 'pabreath_m', 'paooposrg1y', 'padiabe', 'paoutpt1y', 'pacancre', 'papaina', 'paoopdocf1y', 'pabalsft', 'paoopdoc1y', 'paoopfhho1y', 'pacncrchem', 'pahigov', 'paoopdenf1y', 'pamstath', 'parxlung_m', 'paoopmdf1y', 'pabed', 'pawork', 'pahosp1y']"
   ]
  },
  {
   "attachments": {},
   "cell_type": "markdown",
   "metadata": {},
   "source": [
    "- paiadlfourm -difficulty-Missings in IADLs Score\n",
    "\n",
    "- walksa -difficulty-Walking several blocks\n",
    "\n",
    "- pauppermoba\n",
    "- palowermobm\n",
    "\n",
    "- parpfcaredpmm cuidado profesional\n",
    "- parccaredpmm cuidado no profesional\n",
    "\n",
    "- parxhibp medicacion para le presion\n",
    "\n",
    "- papusha dificultad al mover objetos pesados"
   ]
  },
  {
   "cell_type": "code",
   "execution_count": null,
   "metadata": {},
   "outputs": [],
   "source": [
    "import matplotlib.pyplot as plt\n",
    "import seaborn as sns\n",
    "\n",
    "# Supongamos que tu variable objetivo se llama 'target' y está en un dataframe llamado 'df'\n",
    "# Eliminamos la columna 'target' del dataframe para obtener todas las columnas independientes\n",
    "\n",
    "\n",
    "# Utilizamos el método melt de pandas para convertir las columnas en una columna 'variable' y 'value'\n",
    "melted_df = X['parpfcaredpmm', 'pagrossaa', 'pagrossa', 'palowermobm'].melt()\n",
    "\n",
    "# Utilizamos el método countplot de Seaborn para visualizar la distribución\n",
    "sns.countplot(data=melted_df, x='variable', hue='value')\n",
    "\n",
    "# Ajusta las etiquetas y el título del gráfico\n",
    "plt.xlabel('Columnas')\n",
    "plt.ylabel('Conteo')\n",
    "plt.title('Distribución de target para todas las columnas')\n",
    "\n",
    "# Muestra la leyenda\n",
    "plt.legend(title='target')\n",
    "\n",
    "# Rota las etiquetas del eje X para una mejor legibilidad si es necesario\n",
    "plt.xticks(rotation=90)\n",
    "\n",
    "# Ajusta automáticamente el espaciado entre las etiquetas del eje X\n",
    "plt.tight_layout()\n",
    "\n",
    "# Muestra el gráfico\n",
    "plt.show()"
   ]
  }
 ],
 "metadata": {
  "kernelspec": {
   "display_name": "env",
   "language": "python",
   "name": "python3"
  },
  "language_info": {
   "codemirror_mode": {
    "name": "ipython",
    "version": 3
   },
   "file_extension": ".py",
   "mimetype": "text/x-python",
   "name": "python",
   "nbconvert_exporter": "python",
   "pygments_lexer": "ipython3",
   "version": "3.10.4"
  },
  "orig_nbformat": 4
 },
 "nbformat": 4,
 "nbformat_minor": 2
}
