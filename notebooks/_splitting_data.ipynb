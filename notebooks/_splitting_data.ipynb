{
 "cells": [
  {
   "cell_type": "code",
   "execution_count": 16,
   "metadata": {},
   "outputs": [
    {
     "name": "stdout",
     "output_type": "stream",
     "text": [
      "The autoreload extension is already loaded. To reload it, use:\n",
      "  %reload_ext autoreload\n",
      "Current directory: c:\\Users\\Leo\\OneDrive\\Escritorio\\Final Proyect\n"
     ]
    }
   ],
   "source": [
    "%load_ext autoreload\n",
    "%autoreload 2\n",
    "\n",
    "import __confing\n",
    "__confing.change_to_root_folder()"
   ]
  },
  {
   "cell_type": "code",
   "execution_count": 3,
   "metadata": {},
   "outputs": [],
   "source": [
    "import pyreadstat\n",
    "import polars as pl\n",
    "import pandas as pd\n",
    "\n",
    "from src.txt_normalizer import filter_columns_name ,replace_w, fill_years, print_list, YEAR, COLUMN_LIST, ID"
   ]
  },
  {
   "attachments": {},
   "cell_type": "markdown",
   "metadata": {},
   "source": [
    "# Wave 5"
   ]
  },
  {
   "cell_type": "code",
   "execution_count": 47,
   "metadata": {},
   "outputs": [],
   "source": [
    "data_path = r'data\\long\\H_MHAS_c.sas7bdat'\n",
    "df_pd, _ = pyreadstat.read_sas7bdat(data_path)\n",
    "df = pl.from_pandas(df_pd)"
   ]
  },
  {
   "cell_type": "code",
   "execution_count": 48,
   "metadata": {},
   "outputs": [
    {
     "name": "stdout",
     "output_type": "stream",
     "text": [
      "example:['r1hibpe', 'r2hibpe', 'r3hibpe']\n",
      "len: 200\n"
     ]
    }
   ],
   "source": [
    "new_col = []\n",
    "for col_name in COLUMN_LIST:\n",
    "    resultados_col = replace_w(col_name)\n",
    "    new_col.extend(resultados_col)\n",
    "\n",
    "print_list(new_col)"
   ]
  },
  {
   "cell_type": "code",
   "execution_count": 49,
   "metadata": {},
   "outputs": [
    {
     "name": "stdout",
     "output_type": "stream",
     "text": [
      "example:['c2000cpindex', 'c2001cpindex', 'c2002cpindex']\n",
      "len: 20\n"
     ]
    }
   ],
   "source": [
    "years_columns = fill_years(YEAR)\n",
    "\n",
    "print_list(years_columns)"
   ]
  },
  {
   "cell_type": "code",
   "execution_count": 50,
   "metadata": {},
   "outputs": [
    {
     "data": {
      "text/plain": [
       "(26839, 194)"
      ]
     },
     "execution_count": 50,
     "metadata": {},
     "output_type": "execute_result"
    }
   ],
   "source": [
    "df_columns = new_col + years_columns \n",
    "df_columns.append(ID)\n",
    "\n",
    "new_df = filter_columns_name(df, df_columns)\n",
    "new_df.sort(ID)\n",
    "new_df.shape"
   ]
  },
  {
   "cell_type": "code",
   "execution_count": 51,
   "metadata": {},
   "outputs": [
    {
     "name": "stdout",
     "output_type": "stream",
     "text": [
      "['r5agey', 'r5arthre', 'r5cancre', 'r5dadage', 'r5hearte', 'r5hibpe', 'r5higov', 'r5hosp1y', 'r5lunge_m', 'r5mealhlp', 'r5medhlp', 'r5momage', 'r5moneyhlp', 'r5oopden1y', 'r5oopdoc1y', 'r5oophos1y', 'r5oopmd1y', 'r5ooposrg1y', 'r5prmem', 'r5rafaany', 'r5rifaany', 'r5rjudg', 'r5rorgnz', 'r5shophlp', 'r5smokef', 'r5smoken', 'r5smokev', 'r5stroke', 'r5strtsmok']\n"
     ]
    }
   ],
   "source": [
    "columnas_elegibles = []\n",
    "for columna in sorted(new_df.columns):\n",
    "    if 'r5' in columna:\n",
    "        columnas_elegibles.append(columna)\n",
    "\n",
    "print(columnas_elegibles)"
   ]
  },
  {
   "cell_type": "code",
   "execution_count": 52,
   "metadata": {},
   "outputs": [],
   "source": [
    "columnas_elegibles.append(ID)\n",
    "df_1=df[columnas_elegibles]"
   ]
  },
  {
   "cell_type": "code",
   "execution_count": 53,
   "metadata": {},
   "outputs": [],
   "source": [
    "df_sin_nulos = df_1.filter(pl.col('r5hosp1y').is_not_null())"
   ]
  },
  {
   "cell_type": "code",
   "execution_count": 54,
   "metadata": {},
   "outputs": [
    {
     "name": "stdout",
     "output_type": "stream",
     "text": [
      "shape (17046, 30)\n"
     ]
    },
    {
     "data": {
      "text/html": [
       "<div><style>\n",
       ".dataframe > thead > tr > th,\n",
       ".dataframe > tbody > tr > td {\n",
       "  text-align: right;\n",
       "}\n",
       "</style>\n",
       "<small>shape: (5, 30)</small><table border=\"1\" class=\"dataframe\"><thead><tr><th>r5agey</th><th>r5arthre</th><th>r5cancre</th><th>r5dadage</th><th>r5hearte</th><th>r5hibpe</th><th>r5higov</th><th>r5hosp1y</th><th>r5lunge_m</th><th>r5mealhlp</th><th>r5medhlp</th><th>r5momage</th><th>r5moneyhlp</th><th>r5oopden1y</th><th>r5oopdoc1y</th><th>r5oophos1y</th><th>r5oopmd1y</th><th>r5ooposrg1y</th><th>r5prmem</th><th>r5rafaany</th><th>r5rifaany</th><th>r5rjudg</th><th>r5rorgnz</th><th>r5shophlp</th><th>r5smokef</th><th>r5smoken</th><th>r5smokev</th><th>r5stroke</th><th>r5strtsmok</th><th>rahhidnp</th></tr><tr><td>f64</td><td>f64</td><td>f64</td><td>f64</td><td>f64</td><td>f64</td><td>f64</td><td>f64</td><td>f64</td><td>f64</td><td>f64</td><td>f64</td><td>f64</td><td>f64</td><td>f64</td><td>f64</td><td>f64</td><td>f64</td><td>f64</td><td>f64</td><td>f64</td><td>f64</td><td>f64</td><td>f64</td><td>f64</td><td>f64</td><td>f64</td><td>f64</td><td>f64</td><td>str</td></tr></thead><tbody><tr><td>68.0</td><td>0.0</td><td>0.0</td><td>null</td><td>0.0</td><td>0.0</td><td>1.0</td><td>0.0</td><td>0.0</td><td>null</td><td>0.0</td><td>90.0</td><td>null</td><td>0.0</td><td>0.0</td><td>0.0</td><td>0.0</td><td>0.0</td><td>null</td><td>null</td><td>0.0</td><td>null</td><td>null</td><td>null</td><td>0.0</td><td>0.0</td><td>0.0</td><td>0.0</td><td>null</td><td>&quot;120&quot;</td></tr><tr><td>86.0</td><td>1.0</td><td>0.0</td><td>null</td><td>0.0</td><td>1.0</td><td>1.0</td><td>1.0</td><td>0.0</td><td>null</td><td>null</td><td>null</td><td>null</td><td>0.0</td><td>600.0</td><td>4944.193359</td><td>5544.193359</td><td>0.0</td><td>null</td><td>null</td><td>null</td><td>null</td><td>null</td><td>null</td><td>0.0</td><td>0.0</td><td>0.0</td><td>0.0</td><td>14.0</td><td>&quot;210&quot;</td></tr><tr><td>68.0</td><td>0.0</td><td>0.0</td><td>87.0</td><td>0.0</td><td>0.0</td><td>1.0</td><td>0.0</td><td>0.0</td><td>null</td><td>null</td><td>100.0</td><td>null</td><td>350.0</td><td>0.0</td><td>0.0</td><td>350.0</td><td>0.0</td><td>null</td><td>null</td><td>null</td><td>null</td><td>null</td><td>null</td><td>0.0</td><td>0.0</td><td>1.0</td><td>0.0</td><td>18.0</td><td>&quot;310&quot;</td></tr><tr><td>47.0</td><td>0.0</td><td>0.0</td><td>65.0</td><td>0.0</td><td>0.0</td><td>1.0</td><td>0.0</td><td>0.0</td><td>null</td><td>null</td><td>58.0</td><td>null</td><td>0.0</td><td>0.0</td><td>0.0</td><td>0.0</td><td>0.0</td><td>null</td><td>null</td><td>null</td><td>null</td><td>null</td><td>null</td><td>0.0</td><td>0.0</td><td>0.0</td><td>0.0</td><td>13.0</td><td>&quot;311&quot;</td></tr><tr><td>67.0</td><td>1.0</td><td>0.0</td><td>null</td><td>0.0</td><td>0.0</td><td>1.0</td><td>0.0</td><td>0.0</td><td>null</td><td>null</td><td>null</td><td>null</td><td>8000.0</td><td>0.0</td><td>0.0</td><td>8000.0</td><td>0.0</td><td>null</td><td>0.0</td><td>null</td><td>null</td><td>null</td><td>null</td><td>0.0</td><td>0.0</td><td>0.0</td><td>0.0</td><td>null</td><td>&quot;420&quot;</td></tr></tbody></table></div>"
      ],
      "text/plain": [
       "shape: (5, 30)\n",
       "┌────────┬──────────┬──────────┬──────────┬───┬──────────┬──────────┬────────────┬──────────┐\n",
       "│ r5agey ┆ r5arthre ┆ r5cancre ┆ r5dadage ┆ … ┆ r5smokev ┆ r5stroke ┆ r5strtsmok ┆ rahhidnp │\n",
       "│ ---    ┆ ---      ┆ ---      ┆ ---      ┆   ┆ ---      ┆ ---      ┆ ---        ┆ ---      │\n",
       "│ f64    ┆ f64      ┆ f64      ┆ f64      ┆   ┆ f64      ┆ f64      ┆ f64        ┆ str      │\n",
       "╞════════╪══════════╪══════════╪══════════╪═══╪══════════╪══════════╪════════════╪══════════╡\n",
       "│ 68.0   ┆ 0.0      ┆ 0.0      ┆ null     ┆ … ┆ 0.0      ┆ 0.0      ┆ null       ┆ 120      │\n",
       "│ 86.0   ┆ 1.0      ┆ 0.0      ┆ null     ┆ … ┆ 0.0      ┆ 0.0      ┆ 14.0       ┆ 210      │\n",
       "│ 68.0   ┆ 0.0      ┆ 0.0      ┆ 87.0     ┆ … ┆ 1.0      ┆ 0.0      ┆ 18.0       ┆ 310      │\n",
       "│ 47.0   ┆ 0.0      ┆ 0.0      ┆ 65.0     ┆ … ┆ 0.0      ┆ 0.0      ┆ 13.0       ┆ 311      │\n",
       "│ 67.0   ┆ 1.0      ┆ 0.0      ┆ null     ┆ … ┆ 0.0      ┆ 0.0      ┆ null       ┆ 420      │\n",
       "└────────┴──────────┴──────────┴──────────┴───┴──────────┴──────────┴────────────┴──────────┘"
      ]
     },
     "execution_count": 54,
     "metadata": {},
     "output_type": "execute_result"
    }
   ],
   "source": [
    "print(f'shape {df_sin_nulos.shape}')\n",
    "df_sin_nulos.head()"
   ]
  },
  {
   "cell_type": "code",
   "execution_count": 55,
   "metadata": {},
   "outputs": [],
   "source": [
    "df_sin_nulos.write_csv('data/waves/wave5.csv')"
   ]
  },
  {
   "attachments": {},
   "cell_type": "markdown",
   "metadata": {},
   "source": [
    "# All Data"
   ]
  },
  {
   "cell_type": "code",
   "execution_count": 3,
   "metadata": {},
   "outputs": [],
   "source": [
    "def seleccionar_elementos(lista,x):\n",
    "    seleccionados = [elemento for elemento in lista if str(elemento).startswith(x)]\n",
    "    return seleccionados\n",
    "\n",
    "def cambiar_letras(lista, x):\n",
    "    modificados = [x + elemento[2:] for elemento in lista]\n",
    "    return modificados"
   ]
  },
  {
   "cell_type": "code",
   "execution_count": 4,
   "metadata": {},
   "outputs": [
    {
     "name": "stdout",
     "output_type": "stream",
     "text": [
      "Warning: column count mismatch (282 + 287 != 5255)\n",
      "\n"
     ]
    }
   ],
   "source": [
    "data_path = r'data\\long\\H_MHAS_c.sas7bdat'\n",
    "df = pd.read_sas(data_path)\n",
    "all_columns=df.columns "
   ]
  },
  {
   "cell_type": "code",
   "execution_count": 5,
   "metadata": {},
   "outputs": [
    {
     "name": "stdout",
     "output_type": "stream",
     "text": [
      "['r1iwstat', 'r1proxy', 'r1wthh', 'r1wtresp', 'r1iwm', 'r1iwy', 'r1iwf', 'r1agey', 'r1mpart', 'r1mstat', 'r1mstath', 'r1mrct', 'r1shlt', 'r1hltc', 'r1dress', 'r1walkr', 'r1bath', 'r1eat', 'r1bed', 'r1toilt', 'r1walkra', 'r1dressa', 'r1batha', 'r1eata', 'r1beda', 'r1toilta', 'r1money', 'r1meds', 'r1shop', 'r1meals', 'r1moneya', 'r1medsa', 'r1shopa', 'r1mealsa', 'r1walks', 'r1jog', 'r1walk1', 'r1sit', 'r1chair', 'r1clims', 'r1clim1', 'r1stoop', 'r1lift', 'r1dime', 'r1arms', 'r1push', 'r1walksa', 'r1joga', 'r1walk1a', 'r1sita', 'r1chaira', 'r1climsa', 'r1clim1a', 'r1stoopa', 'r1lifta', 'r1dimea', 'r1armsa', 'r1pusha', 'r1adltot_m', 'r1adltotm_m', 'r1adltota_m', 'r1adla', 'r1adlam', 'r1adlaa', 'r1adlfive', 'r1adlfivem', 'r1adlfivea', 'r1adla_m', 'r1adlam_m', 'r1adlaa_m', 'r1adlwa', 'r1adlwam', 'r1adlwaa', 'r1iadlfour', 'r1iadlfourm', 'r1iadlfoura', 'r1mobila', 'r1mobilam', 'r1mobilaa', 'r1lgmusa', 'r1lgmusam', 'r1lgmusaa', 'r1grossa', 'r1grossam', 'r1grossaa', 'r1finea', 'r1fineam', 'r1fineaa', 'r1mobilsev', 'r1mobilsevm', 'r1mobilseva', 'r1uppermob', 'r1uppermobm', 'r1uppermoba', 'r1lowermob', 'r1lowermobm', 'r1lowermoba', 'r1nagi10', 'r1nagi10m', 'r1nagi10a', 'r1nagi8', 'r1nagi8m', 'r1nagi8a', 'r1hibpe', 'r1diabe', 'r1cancre', 'r1lunge_m', 'r1hrtatte', 'r1stroke', 'r1arthre', 'r1rxhibp', 'r1rxdiabo', 'r1rxdiabi', 'r1rxdiab', 'r1cncrchem', 'r1cncrsurg', 'r1cncrradn', 'r1cncrmeds', 'r1cncrothr', 'r1rxlung_m', 'r1rxhrtat', 'r1rxstrok', 'r1rxarthr', 'r1lunglmt_m', 'r1hrtatlmt', 'r1stroklmt', 'r1arthlmt', 'r1reccancr', 'r1rechrtatt', 'r1recstrok', 'r1sight', 'r1glasses', 'r1hearing', 'r1hearaid', 'r1fall', 'r1fallnum', 'r1fallinj', 'r1hipe_m', 'r1urina2y', 'r1swell', 'r1breath_m', 'r1wheeze', 'r1fatigue', 'r1painfr', 'r1painlv', 'r1paina', 'r1bmi', 'r1weight', 'r1height', 'r1vigact', 'r1drink', 'r1drinkd', 'r1drinkn', 'r1drinkb', 'r1binged', 'r1drinkcut', 'r1drinkcr', 'r1drinkbd', 'r1drinknr', 'r1cage', 'r1cagem', 'r1smokev', 'r1smoken', 'r1smokef', 'r1strtsmok', 'r1quitsmok', 'r1cholst', 'r1breast', 'r1mammog', 'r1papsm', 'r1prost', 'r1hosp1y', 'r1hspnit1y', 'r1doctor1y', 'r1doctim1y', 'r1outpt1y', 'r1dentst1y', 'r1dentim1y', 'r1oophos1y', 'r1oophosf1y', 'r1oopfhho1y', 'r1oopfhhof1y', 'r1oopden1y', 'r1oopdenf1y', 'r1ooposrg1y', 'r1ooposrgf1y', 'r1oopdoc1y', 'r1oopdocf1y', 'r1oopmd1y', 'r1oopmdf1y', 'r1higov', 'r1hipriv', 'r1covr_m', 'r1covs_m', 'r1henum', 'r1novisual', 'r1nopencil', 'r1imrc_m', 'r1fimrc_m', 'r1dlrc_m', 'r1fdlrc_m', 'r1tr8_m', 'r1ftr8_m', 'r1idraw2', 'r1fidraw2', 'r1ddraw2', 'r1fddraw2', 'r1vscan', 'r1fvscan', 'r1iqscore1', 'r1fiqscore1', 'r1iqscore2', 'r1fiqscore2', 'r1iqscore3', 'r1fiqscore3', 'r1iqscore4', 'r1fiqscore4', 'r1iqscore5', 'r1fiqscore5', 'r1iqscore6', 'r1fiqscore6', 'r1iqscore7', 'r1fiqscore7', 'r1iqscore8', 'r1fiqscore8', 'r1iqscore9', 'r1fiqscore9', 'r1iqscore10', 'r1fiqscore10', 'r1iqscore11', 'r1fiqscore11', 'r1iqscore12', 'r1fiqscore12', 'r1iqscore13', 'r1fiqscore13', 'r1iqscore14', 'r1fiqscore14', 'r1iqscore15', 'r1fiqscore15', 'r1iqscore16', 'r1fiqscore16', 'r1jormscore', 'r1prmem', 'r1prchmem', 'r1rjudg', 'r1rorgnz', 'r1lost', 'r1wander', 'r1alone', 'r1haluc', 'r1oangry', 'r1osleep', 'r1odngr', 'r1opace', 'r1oplot', 'r1oalchl', 'r1iearn', 'r1ifearn', 'r1ipena', 'r1ifpena', 'r1isret', 'r1ifsret', 'r1issdi', 'r1ifssdi', 'r1ipubo', 'r1ifpubo', 'r1ipubpen', 'r1ifpubpen', 'r1ipeno', 'r1ifpeno', 'r1ipent', 'r1ifpent', 'r1igxfr', 'r1ifgxfr', 'r1iothr', 'r1ifothr', 'r1livsib', 'r1decsib', 'r1livpar', 'r1momliv', 'r1dadliv', 'r1momage', 'r1dadage', 'r1relgimp', 'r1tpany', 'r1tpamt', 'r1work', 'r1slfemp', 'r1lbrf_m', 'r1unemp', 'r1jhoursd', 'r1jcten', 'r1jlocc_m', 'r1pubpen', 'r1peninc', 'r1open', 'r1pubage', 'r1penage', 'r1ssic', 'r1penic', 'r1mheight', 'r1htcomp', 'r1mweight', 'r1wtcomp', 'r1mbmi', 'r1mbmicat', 'r1mwaist', 'r1watcomp', 'r1mhip', 'r1hipcomp', 'r1mwhratio', 'r1hghtsft', 'r1hghttryu', 'r1hghtref', 'r1wghtsft', 'r1wghttryu', 'r1wghtref', 'r1wstsft', 'r1wsttryu', 'r1wstref', 'r1hipsft', 'r1hiptryu', 'r1hipref', 'r1balrtsec', 'r1balrt', 'r1balrtcomp', 'r1ballfsec', 'r1ballf', 'r1ballfcomp', 'r1balsft', 'r1balref', 'r1baltryu', 'r1dresshlp', 'r1walkhlp', 'r1bathehlp', 'r1eathlp', 'r1bedhlp', 'r1toilethlp', 'r1mealhlp', 'r1shophlp', 'r1medhlp', 'r1moneyhlp', 'r1walkre', 'r1bede', 'r1racany', 'r1racaany', 'r1rascare', 'r1raccare', 'r1raccaren', 'r1raccaredpm', 'r1raccaredpmm', 'r1raccarehr', 'r1raccarehrm', 'r1rarcare', 'r1rarcaren', 'r1rarcaredpm', 'r1rarcaredpmm', 'r1rarcarehr', 'r1rarcarehrm', 'r1rafcare', 'r1rafcaren', 'r1rafcaredpm', 'r1rafcaredpmm', 'r1rafcarehr', 'r1rafcarehrm', 'r1rafaany', 'r1rapfcare', 'r1rapfcaren', 'r1rapfcaredpm', 'r1rapfcaredpmm', 'r1rapfcarehr', 'r1rapfcarehrm', 'r1ricany', 'r1ricaany', 'r1riscare', 'r1riccare', 'r1riccaren', 'r1riccaredpm', 'r1riccaredpmm', 'r1riccarehr', 'r1riccarehrm', 'r1rircare', 'r1rircaren', 'r1rircaredpm', 'r1rircaredpmm', 'r1rircarehr', 'r1rircarehrm', 'r1rifcare', 'r1rifcaren', 'r1rifcaredpm', 'r1rifcaredpmm', 'r1rifcarehr', 'r1rifcarehrm', 'r1rifaany', 'r1ripfcare', 'r1ripfcaren', 'r1ripfcaredpm', 'r1ripfcaredpmm', 'r1ripfcarehr', 'r1ripfcarehrm', 'r1rcany', 'r1rcaany', 'r1rscare', 'r1rccare', 'r1rccaren', 'r1rccaredpm', 'r1rccaredpmm', 'r1rccarehr', 'r1rccarehrm', 'r1rrcare', 'r1rrcaren', 'r1rrcaredpm', 'r1rrcaredpmm', 'r1rrcarehr', 'r1rrcarehrm', 'r1rfcare', 'r1rfcaren', 'r1rfcaredpm', 'r1rfcaredpmm', 'r1rfcarehr', 'r1rfcarehrm', 'r1rfaany', 'r1rpfcare', 'r1rpfcaren', 'r1rpfcaredpm', 'r1rpfcaredpmm', 'r1rpfcarehr', 'r1rpfcarehrm', 'r1gpcare', 'r1gpcarehr', 'r1lifein_m', 'r1depres', 'r1effort', 'r1sleepr', 'r1whappy', 'r1flone', 'r1enlife', 'r1fsad', 'r1ftired', 'r1energ', 'r1cesd_m', 'r1cesdm_m']\n"
     ]
    }
   ],
   "source": [
    "w1=seleccionar_elementos(all_columns,'r1')\n",
    "w2=seleccionar_elementos(all_columns,'r2')\n",
    "w3=seleccionar_elementos(all_columns,'r3')\n",
    "w4=seleccionar_elementos(all_columns,'r4')\n",
    "w5=seleccionar_elementos(all_columns,'r5')\n",
    "print(w1)"
   ]
  },
  {
   "cell_type": "code",
   "execution_count": 6,
   "metadata": {},
   "outputs": [
    {
     "name": "stdout",
     "output_type": "stream",
     "text": [
      "['raiwstat', 'raproxy', 'rawthh', 'rawtresp', 'raiwm', 'raiwy', 'raiwf', 'raagey', 'rampart', 'ramstat', 'ramstath', 'ramrct', 'rashlt', 'rahltc', 'radress', 'rawalkr', 'rabath', 'raeat', 'rabed', 'ratoilt', 'rawalkra', 'radressa', 'rabatha', 'raeata', 'rabeda', 'ratoilta', 'ramoney', 'rameds', 'rashop', 'rameals', 'ramoneya', 'ramedsa', 'rashopa', 'ramealsa', 'rawalks', 'rajog', 'rawalk1', 'rasit', 'rachair', 'raclims', 'raclim1', 'rastoop', 'ralift', 'radime', 'raarms', 'rapush', 'rawalksa', 'rajoga', 'rawalk1a', 'rasita', 'rachaira', 'raclimsa', 'raclim1a', 'rastoopa', 'ralifta', 'radimea', 'raarmsa', 'rapusha', 'raadltot_m', 'raadltotm_m', 'raadltota_m', 'raadla', 'raadlam', 'raadlaa', 'raadlfive', 'raadlfivem', 'raadlfivea', 'raadla_m', 'raadlam_m', 'raadlaa_m', 'raadlwa', 'raadlwam', 'raadlwaa', 'raiadlfour', 'raiadlfourm', 'raiadlfoura', 'ramobila', 'ramobilam', 'ramobilaa', 'ralgmusa', 'ralgmusam', 'ralgmusaa', 'ragrossa', 'ragrossam', 'ragrossaa', 'rafinea', 'rafineam', 'rafineaa', 'ramobilsev', 'ramobilsevm', 'ramobilseva', 'rauppermob', 'rauppermobm', 'rauppermoba', 'ralowermob', 'ralowermobm', 'ralowermoba', 'ranagi10', 'ranagi10m', 'ranagi10a', 'ranagi8', 'ranagi8m', 'ranagi8a', 'rahibpe', 'radiabe', 'racancre', 'ralunge_m', 'rahrtatte', 'rastroke', 'raarthre', 'rarxhibp', 'rarxdiabo', 'rarxdiabi', 'rarxdiab', 'racncrchem', 'racncrsurg', 'racncrradn', 'racncrmeds', 'racncrothr', 'rarxlung_m', 'rarxhrtat', 'rarxstrok', 'rarxarthr', 'ralunglmt_m', 'rahrtatlmt', 'rastroklmt', 'raarthlmt', 'rareccancr', 'rarechrtatt', 'rarecstrok', 'rasight', 'raglasses', 'rahearing', 'rahearaid', 'rafall', 'rafallnum', 'rafallinj', 'rahipe_m', 'raurina2y', 'raswell', 'rabreath_m', 'rawheeze', 'rafatigue', 'rapainfr', 'rapainlv', 'rapaina', 'rabmi', 'raweight', 'raheight', 'ravigact', 'radrink', 'radrinkd', 'radrinkn', 'radrinkb', 'rabinged', 'radrinkcut', 'radrinkcr', 'radrinkbd', 'radrinknr', 'racage', 'racagem', 'rasmokev', 'rasmoken', 'rasmokef', 'rastrtsmok', 'raquitsmok', 'racholst', 'rabreast', 'ramammog', 'rapapsm', 'raprost', 'rahosp1y', 'rahspnit1y', 'radoctor1y', 'radoctim1y', 'raoutpt1y', 'radentst1y', 'radentim1y', 'raoophos1y', 'raoophosf1y', 'raoopfhho1y', 'raoopfhhof1y', 'raoopden1y', 'raoopdenf1y', 'raooposrg1y', 'raooposrgf1y', 'raoopdoc1y', 'raoopdocf1y', 'raoopmd1y', 'raoopmdf1y', 'rahigov', 'rahipriv', 'racovr_m', 'racovs_m', 'rahenum', 'ranovisual', 'ranopencil', 'raimrc_m', 'rafimrc_m', 'radlrc_m', 'rafdlrc_m', 'ratr8_m', 'raftr8_m', 'raidraw2', 'rafidraw2', 'raddraw2', 'rafddraw2', 'ravscan', 'rafvscan', 'raiqscore1', 'rafiqscore1', 'raiqscore2', 'rafiqscore2', 'raiqscore3', 'rafiqscore3', 'raiqscore4', 'rafiqscore4', 'raiqscore5', 'rafiqscore5', 'raiqscore6', 'rafiqscore6', 'raiqscore7', 'rafiqscore7', 'raiqscore8', 'rafiqscore8', 'raiqscore9', 'rafiqscore9', 'raiqscore10', 'rafiqscore10', 'raiqscore11', 'rafiqscore11', 'raiqscore12', 'rafiqscore12', 'raiqscore13', 'rafiqscore13', 'raiqscore14', 'rafiqscore14', 'raiqscore15', 'rafiqscore15', 'raiqscore16', 'rafiqscore16', 'rajormscore', 'raprmem', 'raprchmem', 'rarjudg', 'rarorgnz', 'ralost', 'rawander', 'raalone', 'rahaluc', 'raoangry', 'raosleep', 'raodngr', 'raopace', 'raoplot', 'raoalchl', 'raiearn', 'raifearn', 'raipena', 'raifpena', 'raisret', 'raifsret', 'raissdi', 'raifssdi', 'raipubo', 'raifpubo', 'raipubpen', 'raifpubpen', 'raipeno', 'raifpeno', 'raipent', 'raifpent', 'raigxfr', 'raifgxfr', 'raiothr', 'raifothr', 'ralivsib', 'radecsib', 'ralivpar', 'ramomliv', 'radadliv', 'ramomage', 'radadage', 'rarelgimp', 'ratpany', 'ratpamt', 'rawork', 'raslfemp', 'ralbrf_m', 'raunemp', 'rajhoursd', 'rajcten', 'rajlocc_m', 'rapubpen', 'rapeninc', 'raopen', 'rapubage', 'rapenage', 'rassic', 'rapenic', 'ramheight', 'rahtcomp', 'ramweight', 'rawtcomp', 'rambmi', 'rambmicat', 'ramwaist', 'rawatcomp', 'ramhip', 'rahipcomp', 'ramwhratio', 'rahghtsft', 'rahghttryu', 'rahghtref', 'rawghtsft', 'rawghttryu', 'rawghtref', 'rawstsft', 'rawsttryu', 'rawstref', 'rahipsft', 'rahiptryu', 'rahipref', 'rabalrtsec', 'rabalrt', 'rabalrtcomp', 'raballfsec', 'raballf', 'raballfcomp', 'rabalsft', 'rabalref', 'rabaltryu', 'radresshlp', 'rawalkhlp', 'rabathehlp', 'raeathlp', 'rabedhlp', 'ratoilethlp', 'ramealhlp', 'rashophlp', 'ramedhlp', 'ramoneyhlp', 'rawalkre', 'rabede', 'raracany', 'raracaany', 'rarascare', 'raraccare', 'raraccaren', 'raraccaredpm', 'raraccaredpmm', 'raraccarehr', 'raraccarehrm', 'rararcare', 'rararcaren', 'rararcaredpm', 'rararcaredpmm', 'rararcarehr', 'rararcarehrm', 'rarafcare', 'rarafcaren', 'rarafcaredpm', 'rarafcaredpmm', 'rarafcarehr', 'rarafcarehrm', 'rarafaany', 'rarapfcare', 'rarapfcaren', 'rarapfcaredpm', 'rarapfcaredpmm', 'rarapfcarehr', 'rarapfcarehrm', 'raricany', 'raricaany', 'rariscare', 'rariccare', 'rariccaren', 'rariccaredpm', 'rariccaredpmm', 'rariccarehr', 'rariccarehrm', 'rarircare', 'rarircaren', 'rarircaredpm', 'rarircaredpmm', 'rarircarehr', 'rarircarehrm', 'rarifcare', 'rarifcaren', 'rarifcaredpm', 'rarifcaredpmm', 'rarifcarehr', 'rarifcarehrm', 'rarifaany', 'raripfcare', 'raripfcaren', 'raripfcaredpm', 'raripfcaredpmm', 'raripfcarehr', 'raripfcarehrm', 'rarcany', 'rarcaany', 'rarscare', 'rarccare', 'rarccaren', 'rarccaredpm', 'rarccaredpmm', 'rarccarehr', 'rarccarehrm', 'rarrcare', 'rarrcaren', 'rarrcaredpm', 'rarrcaredpmm', 'rarrcarehr', 'rarrcarehrm', 'rarfcare', 'rarfcaren', 'rarfcaredpm', 'rarfcaredpmm', 'rarfcarehr', 'rarfcarehrm', 'rarfaany', 'rarpfcare', 'rarpfcaren', 'rarpfcaredpm', 'rarpfcaredpmm', 'rarpfcarehr', 'rarpfcarehrm', 'ragpcare', 'ragpcarehr', 'ralifein_m', 'radepres', 'raeffort', 'rasleepr', 'rawhappy', 'raflone', 'raenlife', 'rafsad', 'raftired', 'raenerg', 'racesd_m', 'racesdm_m']\n"
     ]
    }
   ],
   "source": [
    "w1 = cambiar_letras(w1,'ra')\n",
    "w2 = cambiar_letras(w2,'ra')\n",
    "w3 = cambiar_letras(w3,'ra')\n",
    "w4 = cambiar_letras(w4,'ra')\n",
    "w5 = cambiar_letras(w5,'ra')\n",
    "print(w1)"
   ]
  },
  {
   "cell_type": "code",
   "execution_count": 9,
   "metadata": {},
   "outputs": [
    {
     "name": "stdout",
     "output_type": "stream",
     "text": [
      "len: 370\n"
     ]
    }
   ],
   "source": [
    "w1 = set(w1)\n",
    "w2 = set(w2)\n",
    "w3 = set(w3)\n",
    "w4 = set(w4)\n",
    "w5 = set(w5)\n",
    "\n",
    "wa=w1.intersection(w2,w3,w4,w5)\n",
    "print(f'len: {len(wa)}')\n",
    "\n",
    "wa=list(wa)"
   ]
  },
  {
   "cell_type": "code",
   "execution_count": null,
   "metadata": {},
   "outputs": [],
   "source": [
    "wa = w1.intersection(w2, w3, w4, w5)\n"
   ]
  },
  {
   "cell_type": "code",
   "execution_count": 6,
   "metadata": {},
   "outputs": [],
   "source": [
    "exclusivos = set()\n",
    "conjuntos = [w1, w2, w3, w4, w5]\n",
    "\n",
    "for conjunto in conjuntos:\n",
    "    exclusivos = exclusivos.symmetric_difference(conjunto)"
   ]
  },
  {
   "cell_type": "code",
   "execution_count": null,
   "metadata": {},
   "outputs": [],
   "source": [
    "exclusivos"
   ]
  },
  {
   "cell_type": "code",
   "execution_count": 15,
   "metadata": {},
   "outputs": [
    {
     "name": "stdout",
     "output_type": "stream",
     "text": [
      "['r1prost', 'r1cncrothr', 'r1eathlp', 'r1quitsmok', 'r1jormscore', 'r1push', 'r1iqscore15', 'r1rrcaredpm', 'r1walkhlp', 'r1outpt1y', 'r1raccaredpm', 'r1cesd_m', 'r1joga', 'r1fallinj', 'r1bmi', 'r1ripfcaren', 'r1lgmusaa', 'r1jcten', 'r1rafcaredpmm', 'r1rarcarehr', 'r1rifaany', 'r1fiqscore1', 'r1rxlung_m', 'r1rpfcarehr', 'r1iwm', 'r1rccarehrm', 'r1rarcare', 'r1ifgxfr', 'r1iwy', 'r1bedhlp', 'r1lunglmt_m', 'r1adlwaa', 'r1ftr8_m', 'r1wander', 'r1rafaany', 'r1mpart', 'r1rapfcaredpm', 'r1fiqscore7', 'r1iqscore8', 'r1imrc_m', 'r1arthre', 'r1fineam', 'r1rorgnz', 'r1rechrtatt', 'r1rrcaren', 'r1drink', 'r1swell', 'r1novisual', 'r1rifcarehrm', 'r1iqscore11', 'r1ooposrg1y', 'r1unemp', 'r1riccarehr', 'r1adlwa', 'r1lgmusa', 'r1grossa', 'r1peninc', 'r1rapfcarehr', 'r1meals', 'r1effort', 'r1rascare', 'r1cholst', 'r1rccaredpmm', 'r1iqscore5', 'r1vscan', 'r1momage', 'r1mobilseva', 'r1lost', 'r1rarcaredpm', 'r1walksa', 'r1iadlfourm', 'r1rccaren', 'r1hspnit1y', 'r1iqscore13', 'r1papsm', 'r1painfr', 'r1lgmusam', 'r1rafcare', 'r1iwf', 'r1pusha', 'r1lift', 'r1oopmdf1y', 'r1moneyhlp', 'r1iqscore14', 'r1toilethlp', 'r1ripfcaredpmm', 'r1racaany', 'r1rxdiab', 'r1iqscore7', 'r1hearing', 'r1riscare', 'r1rfcaredpm', 'r1painlv', 'r1fimrc_m', 'r1walk1a', 'r1rircaredpm', 'r1nagi8m', 'r1adlam', 'r1nagi10a', 'r1adlam_m', 'r1iqscore12', 'r1riccaredpm', 'r1mstath', 'r1rfcare', 'r1lifein_m', 'r1cesdm_m', 'r1breast', 'r1fiqscore11', 'r1doctor1y', 'r1rrcarehrm', 'r1fallnum', 'r1mobilsev', 'r1energ', 'r1ifearn', 'r1mobila', 'r1prchmem', 'r1covr_m', 'r1lbrf_m', 'r1rfcaredpmm', 'r1bathehlp', 'r1iqscore10', 'r1rccaredpm', 'r1gpcare', 'r1sight', 'r1cncrsurg', 'r1chair', 'r1iqscore6', 'r1meds', 'r1oopdenf1y', 'r1livpar', 'r1iqscore16', 'r1ipent', 'r1uppermoba', 'r1mobilam', 'r1arms', 'r1adlfivem', 'r1fdlrc_m', 'r1rafcarehr', 'r1raccaren', 'r1ifothr', 'r1oopmd1y', 'r1rapfcarehrm', 'r1igxfr', 'r1mealsa', 'r1doctim1y', 'r1eat', 'r1iothr', 'r1iwstat', 'r1height', 'r1rpfcarehrm', 'r1fiqscore8', 'r1fiqscore10', 'r1drinkn', 'r1rifcare', 'r1oopdocf1y', 'r1fiqscore16', 'r1recstrok', 'r1lowermobm', 'r1nagi8a', 'r1henum', 'r1agey', 'r1clims', 'r1climsa', 'r1cancre', 'r1dadliv', 'r1work', 'r1iqscore9', 'r1weight', 'r1oopden1y', 'r1flone', 'r1relgimp', 'r1rircaredpmm', 'r1rarcaredpmm', 'r1dressa', 'r1lowermob', 'r1fsad', 'r1finea', 'r1dentim1y', 'r1iadlfour', 'r1rircarehr', 'r1clim1a', 'r1uppermob', 'r1rapfcaren', 'r1iqscore4', 'r1riccaredpmm', 'r1arthlmt', 'r1rcaany', 'r1fiqscore14', 'r1slfemp', 'r1oophos1y', 'r1whappy', 'r1rpfcaredpmm', 'r1breath_m', 'r1bed', 'r1rarcaren', 'r1paina', 'r1rfcarehr', 'r1shopa', 'r1rfcarehrm', 'r1adltot_m', 'r1iadlfoura', 'r1nagi8', 'r1hosp1y', 'r1hrtatte', 'r1rircare', 'r1ftired', 'r1rafcarehrm', 'r1fiqscore2', 'r1beda', 'r1enlife', 'r1cncrmeds', 'r1haluc', 'r1rifcaredpm', 'r1rfaany', 'r1fiqscore15', 'r1ripfcare', 'r1armsa', 'r1cncrradn', 'r1rifcarehr', 'r1tr8_m', 'r1ricaany', 'r1rircarehrm', 'r1hltc', 'r1adlwam', 'r1rxhrtat', 'r1reccancr', 'r1nagi10', 'r1rifcaredpmm', 'r1adla_m', 'r1drinkd', 'r1jlocc_m', 'r1dime', 'r1fatigue', 'r1sita', 'r1rscare', 'r1higov', 'r1raccaredpmm', 'r1rfcaren', 'r1oophosf1y', 'r1jog', 'r1riccare', 'r1fall', 'r1walkra', 'r1ripfcarehrm', 'r1adltota_m', 'r1sit', 'r1rpfcare', 'r1adlfive', 'r1grossam', 'r1hipriv', 'r1mrct', 'r1stoopa', 'r1rrcarehr', 'r1rxhibp', 'r1alone', 'r1hibpe', 'r1walkre', 'r1shop', 'r1eata', 'r1dresshlp', 'r1dimea', 'r1ripfcarehr', 'r1adlaa_m', 'r1rxstrok', 'r1clim1', 'r1rircaren', 'r1ricany', 'r1medsa', 'r1glasses', 'r1nopencil', 'r1ripfcaredpm', 'r1rafcaredpm', 'r1bath', 'r1dentst1y', 'r1open', 'r1riccarehrm', 'r1adlaa', 'r1fiqscore4', 'r1stroklmt', 'r1rapfcaredpmm', 'r1adlfivea', 'r1sleepr', 'r1lifta', 'r1uppermobm', 'r1rapfcare', 'r1raccarehr', 'r1diabe', 'r1mealhlp', 'r1covs_m', 'r1iqscore1', 'r1smokev', 'r1rpfcaren', 'r1toilt', 'r1wtresp', 'r1stoop', 'r1rrcaredpmm', 'r1binged', 'r1depres', 'r1nagi10m', 'r1fiqscore5', 'r1lowermoba', 'r1fiqscore6', 'r1iearn', 'r1fiqscore9', 'r1rifcaren', 'r1chaira', 'r1rxdiabi', 'r1shlt', 'r1proxy', 'r1rjudg', 'r1drinkb', 'r1cncrchem', 'r1rrcare', 'r1mammog', 'r1money', 'r1momliv', 'r1walkr', 'r1riccaren', 'r1smoken', 'r1dlrc_m', 'r1walk1', 'r1mobilsevm', 'r1strtsmok', 'r1racany', 'r1iqscore2', 'r1mstat', 'r1iqscore3', 'r1walks', 'r1smokef', 'r1batha', 'r1rcany', 'r1hrtatlmt', 'r1fiqscore3', 'r1adltotm_m', 'r1moneya', 'r1rccare', 'r1dadage', 'r1rpfcaredpm', 'r1shophlp', 'r1medhlp', 'r1fineaa', 'r1prmem', 'r1hearaid', 'r1adla', 'r1tpany', 'r1toilta', 'r1pubpen', 'r1rccarehr', 'r1fiqscore12', 'r1raccare', 'r1ooposrgf1y', 'r1bede', 'r1decsib', 'r1lunge_m', 'r1rarcarehrm', 'r1vigact', 'r1ifpent', 'r1rxarthr', 'r1stroke', 'r1oopdoc1y', 'r1livsib', 'r1fiqscore13', 'r1dress', 'r1rxdiabo', 'r1mobilaa', 'r1raccarehrm', 'r1fvscan', 'r1wthh', 'r1grossaa', 'r1rafcaren']\n"
     ]
    }
   ],
   "source": [
    "c_1=cambiar_letras(wa,'r1')\n",
    "c_2=cambiar_letras(wa,'r2')\n",
    "c_3=cambiar_letras(wa,'r3')\n",
    "c_4=cambiar_letras(wa,'r4')\n",
    "c_5=cambiar_letras(wa,'r5')\n",
    "\n",
    "print(c_1)"
   ]
  },
  {
   "cell_type": "code",
   "execution_count": null,
   "metadata": {},
   "outputs": [],
   "source": [
    "c_1.append('rahhidnp')\n",
    "c_2.append('rahhidnp')\n",
    "c_3.append('rahhidnp')\n",
    "c_4.append('rahhidnp')\n",
    "c_5.append('rahhidnp')\n",
    "wa.append('rahhidnp')"
   ]
  },
  {
   "cell_type": "code",
   "execution_count": 21,
   "metadata": {},
   "outputs": [],
   "source": [
    "df_1 = pd.DataFrame()\n",
    "df_2 = pd.DataFrame()\n",
    "df_3 = pd.DataFrame()\n",
    "df_4 = pd.DataFrame()\n",
    "df_5 = pd.DataFrame()"
   ]
  },
  {
   "cell_type": "code",
   "execution_count": null,
   "metadata": {},
   "outputs": [],
   "source": [
    "df_1[wa] = df[c_1]\n",
    "df_2[wa] = df[c_2]\n",
    "df_3[wa] = df[c_3]\n",
    "df_4[wa] = df[c_4]\n",
    "df_5[wa] = df[c_5]"
   ]
  },
  {
   "cell_type": "code",
   "execution_count": null,
   "metadata": {},
   "outputs": [],
   "source": [
    "df_1['wave'] = 'w1'\n",
    "df_2['wave'] = 'w2'\n",
    "df_3['wave'] = 'w3'\n",
    "df_4['wave'] = 'w4'\n",
    "df_5['wave'] = 'w5'"
   ]
  },
  {
   "cell_type": "code",
   "execution_count": null,
   "metadata": {},
   "outputs": [],
   "source": [
    "df_concatenado = pd.concat([df_1, df_2, df_3, df_4, df_5], ignore_index=True)"
   ]
  },
  {
   "cell_type": "code",
   "execution_count": null,
   "metadata": {},
   "outputs": [],
   "source": [
    "# df_concatenado.to_csv('data/waves/all_waves.csv')"
   ]
  },
  {
   "cell_type": "code",
   "execution_count": null,
   "metadata": {},
   "outputs": [],
   "source": [
    "# df_1.write_csv('data/waves_norm/wave1_norm.csv')\n",
    "# df_2.write_csv('data/waves_norm/wave2_norm.csv')\n",
    "# df_3.write_csv('data/waves_norm/wave3_norm.csv')\n",
    "# df_4.write_csv('data/waves_norm/wave4_norm.csv')\n",
    "# df_5.write_csv('data/waves_norm/wave5_norm.csv')"
   ]
  },
  {
   "attachments": {},
   "cell_type": "markdown",
   "metadata": {},
   "source": [
    "# Analisis por wave"
   ]
  },
  {
   "cell_type": "code",
   "execution_count": 4,
   "metadata": {},
   "outputs": [],
   "source": [
    "from src import feature_selection as fs\n",
    "from src import value_filler as vf"
   ]
  },
  {
   "cell_type": "code",
   "execution_count": 5,
   "metadata": {},
   "outputs": [],
   "source": [
    "df=pd.read_csv(r'data\\waves\\all_waves.csv')\n",
    "c=pd.read_sas(r'data\\long\\H_MHAS_c.sas7bdat')\n",
    "c[index].head(1)"
   ]
  },
  {
   "cell_type": "code",
   "execution_count": 11,
   "metadata": {},
   "outputs": [
    {
     "data": {
      "text/html": [
       "<div>\n",
       "<style scoped>\n",
       "    .dataframe tbody tr th:only-of-type {\n",
       "        vertical-align: middle;\n",
       "    }\n",
       "\n",
       "    .dataframe tbody tr th {\n",
       "        vertical-align: top;\n",
       "    }\n",
       "\n",
       "    .dataframe thead th {\n",
       "        text-align: right;\n",
       "    }\n",
       "</style>\n",
       "<table border=\"1\" class=\"dataframe\">\n",
       "  <thead>\n",
       "    <tr style=\"text-align: right;\">\n",
       "      <th></th>\n",
       "      <th>c2000cpindex</th>\n",
       "      <th>c2001cpindex</th>\n",
       "      <th>c2002cpindex</th>\n",
       "      <th>c2003cpindex</th>\n",
       "      <th>c2011cpindex</th>\n",
       "      <th>c2012cpindex</th>\n",
       "      <th>c2013cpindex</th>\n",
       "      <th>c2014cpindex</th>\n",
       "      <th>c2015cpindex</th>\n",
       "      <th>c2016cpindex</th>\n",
       "      <th>c2017cpindex</th>\n",
       "      <th>c2018cpindex</th>\n",
       "      <th>c2019cpindex</th>\n",
       "    </tr>\n",
       "  </thead>\n",
       "  <tbody>\n",
       "    <tr>\n",
       "      <th>0</th>\n",
       "      <td>63.299999</td>\n",
       "      <td>67.300003</td>\n",
       "      <td>70.699997</td>\n",
       "      <td>73.900002</td>\n",
       "      <td>103.400002</td>\n",
       "      <td>107.699997</td>\n",
       "      <td>111.800003</td>\n",
       "      <td>116.199997</td>\n",
       "      <td>119.400002</td>\n",
       "      <td>122.800003</td>\n",
       "      <td>130.199997</td>\n",
       "      <td>136.600006</td>\n",
       "      <td>141.5</td>\n",
       "    </tr>\n",
       "  </tbody>\n",
       "</table>\n",
       "</div>"
      ],
      "text/plain": [
       "   c2000cpindex  c2001cpindex  c2002cpindex  c2003cpindex  c2011cpindex   \n",
       "0     63.299999     67.300003     70.699997     73.900002    103.400002  \\\n",
       "\n",
       "   c2012cpindex  c2013cpindex  c2014cpindex  c2015cpindex  c2016cpindex   \n",
       "0    107.699997    111.800003    116.199997    119.400002    122.800003  \\\n",
       "\n",
       "   c2017cpindex  c2018cpindex  c2019cpindex  \n",
       "0    130.199997    136.600006         141.5  "
      ]
     },
     "execution_count": 11,
     "metadata": {},
     "output_type": "execute_result"
    }
   ],
   "source": [
    "df['cpindex'] = df['wave'].apply(lambda x: 63.29 if x == 'w1' else 73.90 if x == 'w2' else 107.69 if x == 'w3' else 119.40 if x == 'w4' else 136.6)\n",
    "df.to_csv('data/waves/all_waves.csv')"
   ]
  }
 ],
 "metadata": {
  "kernelspec": {
   "display_name": "env",
   "language": "python",
   "name": "python3"
  },
  "language_info": {
   "codemirror_mode": {
    "name": "ipython",
    "version": 3
   },
   "file_extension": ".py",
   "mimetype": "text/x-python",
   "name": "python",
   "nbconvert_exporter": "python",
   "pygments_lexer": "ipython3",
   "version": "3.10.4"
  },
  "orig_nbformat": 4
 },
 "nbformat": 4,
 "nbformat_minor": 2
}
