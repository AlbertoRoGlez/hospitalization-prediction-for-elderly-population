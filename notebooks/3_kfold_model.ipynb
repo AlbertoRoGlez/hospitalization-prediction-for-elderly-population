{
 "cells": [
  {
   "cell_type": "code",
   "execution_count": 20,
   "metadata": {},
   "outputs": [
    {
     "name": "stdout",
     "output_type": "stream",
     "text": [
      "The autoreload extension is already loaded. To reload it, use:\n",
      "  %reload_ext autoreload\n",
      "Current directory: c:\\Users\\Leo\\OneDrive\\Escritorio\\Nueva carpeta\\hospitalization-prediction\n"
     ]
    }
   ],
   "source": [
    "%load_ext autoreload\n",
    "%autoreload 2\n",
    "\n",
    "import __confing\n",
    "__confing.change_to_root_folder()"
   ]
  },
  {
   "cell_type": "code",
   "execution_count": 21,
   "metadata": {},
   "outputs": [],
   "source": [
    "try:\n",
    "    __confing.execute_notebook('notebooks/0_data_extract.ipynb')\n",
    "except:\n",
    "    pass"
   ]
  },
  {
   "cell_type": "code",
   "execution_count": 22,
   "metadata": {},
   "outputs": [],
   "source": [
    "import pandas as pd\n",
    "import numpy as np\n",
    "\n",
    "from src.feature_selection import fast_fill\n",
    "\n",
    "from sklearn.preprocessing import StandardScaler\n",
    "from sklearn.preprocessing import PowerTransformer\n",
    "from sklearn.model_selection import train_test_split\n",
    "from sklearn.utils import resample\n",
    "\n",
    "from xgboost import XGBClassifier\n",
    "from sklearn.metrics import roc_auc_score, recall_score, classification_report, accuracy_score ,confusion_matrix\n",
    "from sklearn.model_selection import KFold\n",
    "from sklearn.preprocessing import StandardScaler\n",
    "import joblib\n",
    "\n",
    "import matplotlib.pyplot as plt\n",
    "import seaborn as sns"
   ]
  },
  {
   "cell_type": "code",
   "execution_count": 23,
   "metadata": {},
   "outputs": [],
   "source": [
    "n='a'\n",
    "df=pd.read_csv(r'data\\custom\\all_waves.csv')\n",
    "df = df.loc[df['paagey'] >= 50]\n",
    "target=f'p{n}hosp1y'"
   ]
  },
  {
   "cell_type": "code",
   "execution_count": 24,
   "metadata": {},
   "outputs": [
    {
     "name": "stdout",
     "output_type": "stream",
     "text": [
      "There are 32 features selected\n"
     ]
    }
   ],
   "source": [
    "df=pd.read_csv(r'data\\custom\\all_waves.csv')\n",
    "df = df.loc[df['paagey'] >= 50]\n",
    "target='pahosp1y'\n",
    "\n",
    "selected=[\n",
    "    'pahosp1y',     'pahipe_m',     'padadage',     'pamomage', \n",
    "    'pahibpe',      'palunge_m',    'pacholst',     'pagrossaa', \n",
    "    'paosleep',     'pafallinj',    'pacancre',     'paswell', \n",
    "    'pachair',      'parafaany',    'pawheeze',     'paagey', \n",
    "    'paarthre',     'padiabe',      'parjudg',      'paweight', \n",
    "    'paclims',      'pastroke',     'pabathehlp',   'pasmokev', \n",
    "    'pahearaid',    'pameds',       'paheight',     'paglasses', \n",
    "    'paeat',        'papaina',      'pagender',     'padrinkb'\n",
    "]\n",
    "print(f\"There are {len(selected)} features selected\")"
   ]
  },
  {
   "cell_type": "code",
   "execution_count": 25,
   "metadata": {},
   "outputs": [],
   "source": [
    "df3 = df.where(df['cpindex'] <= 107.69).dropna(subset=['cpindex']) # 107.69\n",
    "\n",
    "selected = list(set(selected))\n",
    "\n",
    "df_s = df3.dropna(subset=[target]) \n",
    "df_s = df_s[selected].copy()\n",
    "\n",
    "porcentaje_nulos = df_s.isnull().sum(axis=1) / len(df.columns)\n",
    "df_s = df_s[(df_s[target] != 0) | (porcentaje_nulos <= 0.5)]\n",
    "\n",
    "y = df_s[target]\n",
    "X = df_s.drop(target,axis=1)\n",
    "\n",
    "X = fast_fill(X)\n",
    "X=X.sort_index(axis=1)"
   ]
  },
  {
   "cell_type": "code",
   "execution_count": 26,
   "metadata": {},
   "outputs": [],
   "source": [
    "scaler = StandardScaler()\n",
    "X=scaler.fit_transform(X)\n",
    "\n",
    "transformer = PowerTransformer(method='yeo-johnson')\n",
    "X=transformer.fit_transform(X)\n",
    "pass"
   ]
  },
  {
   "cell_type": "code",
   "execution_count": 27,
   "metadata": {},
   "outputs": [],
   "source": [
    "zeros=y.value_counts()[0]\n",
    "unos=y.value_counts()[1]"
   ]
  },
  {
   "cell_type": "code",
   "execution_count": 28,
   "metadata": {},
   "outputs": [],
   "source": [
    "params={\n",
    "        'max_depth': 8, \n",
    "        'subsample': 0.759545947005226,\n",
    "        'colsample_bytree': 0.9075616505206274, \n",
    "        'eta': 0.05568753700048324, \n",
    "        'min_child_weight': 5, \n",
    "        'learning_rate': 0.0999908981133205, \n",
    "        'n_estimators': 560,\n",
    "        'scale_pos_weight': (zeros/unos)-2.5, # \n",
    "        'n_jobs':-1\n",
    "}\n",
    "\n",
    "model = XGBClassifier(**params)"
   ]
  },
  {
   "cell_type": "code",
   "execution_count": 29,
   "metadata": {},
   "outputs": [],
   "source": [
    "y_test_all = []\n",
    "y_pred_all = []\n",
    "y_pred_prov_all = []\n",
    "\n",
    "kf = KFold(n_splits=7)\n",
    "\n",
    "for train_index, test_index in kf.split(X):\n",
    "    X_train, X_test = X[train_index], X[test_index]\n",
    "    y_train, y_test = y.iloc[train_index], y.iloc[test_index]\n",
    "    \n",
    "    model.fit(X_train, y_train)\n",
    "    \n",
    "    y_test_all.extend(y_test)\n",
    "    y_pred_all.extend(model.predict(X_test))\n",
    "    y_pred_prov_all.extend(model.predict_proba(X_test))"
   ]
  },
  {
   "cell_type": "code",
   "execution_count": null,
   "metadata": {},
   "outputs": [
    {
     "name": "stdout",
     "output_type": "stream",
     "text": [
      "AUC: 0.937910056104865\n",
      "Accuracy: 0.9617598624287734\n",
      "Recall: 0.8072553045859001\n",
      "\n",
      "Classification Report:\n",
      "              precision    recall  f1-score   support\n",
      "\n",
      "         0.0       0.98      0.98      0.98     61314\n",
      "         1.0       0.83      0.81      0.82      7305\n",
      "\n",
      "    accuracy                           0.96     68619\n",
      "   macro avg       0.90      0.89      0.90     68619\n",
      "weighted avg       0.96      0.96      0.96     68619\n",
      "\n"
     ]
    }
   ],
   "source": [
    "auc = roc_auc_score(y_test_all,  np.array(y_pred_prov_all)[:,1])\n",
    "\n",
    "recall = recall_score(y_test_all, y_pred_all)\n",
    "\n",
    "report = classification_report(y_test_all, y_pred_all)\n",
    "\n",
    "accuracy = accuracy_score(y_test_all, y_pred_all)\n",
    "\n",
    "print(\"AUC:\", auc)\n",
    "print(\"Accuracy:\", accuracy)\n",
    "print(\"Recall:\", recall)\n",
    "\n",
    "print(\"\\nClassification Report:\")\n",
    "print(report)"
   ]
  },
  {
   "cell_type": "code",
   "execution_count": null,
   "metadata": {},
   "outputs": [
    {
     "data": {
      "image/png": "[encoded data removed]",
      "text/plain": [
       "<Figure size 640x480 with 1 Axes>"
      ]
     },
     "metadata": {},
     "output_type": "display_data"
    }
   ],
   "source": [
    "with plt.style.context('fivethirtyeight'):\n",
    "    sns.histplot(model.predict_proba(X_test)[:,1], bins=50)\n",
    "    plt.title(\"Probability distribution for each Target category\")\n",
    "    plt.xlabel(\"Probability\")\n",
    "    plt.ylabel(\"Frequency\")\n",
    "    plt.show()"
   ]
  },
  {
   "cell_type": "code",
   "execution_count": null,
   "metadata": {},
   "outputs": [],
   "source": [
    "import seaborn as sns\n",
    "import matplotlib.pyplot as plt\n",
    "from sklearn.metrics import roc_auc_score,roc_curve\n",
    "import matplotlib.pyplot as plt\n",
    "\n",
    "# Calcular el AUC\n",
    "auc = roc_auc_score(y_test_all,  np.array(y_pred_prov_all)[:,1])\n",
    "\n",
    "# Crear el gráfico ROC\n",
    "fpr, tpr, thresholds = roc_curve(y_test_all,  np.array(y_pred_prov_all)[:,1])\n",
    "\n",
    "# Crear la figura y el eje\n",
    "fig, ax = plt.subplots()\n",
    "\n",
    "# Graficar la curva ROC\n",
    "sns.lineplot(x=fpr, y=tpr, ax=ax)\n",
    "\n",
    "# Configurar los ejes y la etiqueta\n",
    "ax.set(xlabel='False Positive Rate', ylabel='True Positive Rate', title='Receiver Operating Characteristic')\n",
    "\n",
    "# Mostrar la leyenda\n",
    "ax.legend([f'AUC = {auc:.4f}'])\n",
    "\n",
    "# Mostrar el gráfico\n",
    "plt.show()"
   ]
  }
 ],
 "metadata": {
  "kernelspec": {
   "display_name": "env",
   "language": "python",
   "name": "python3"
  },
  "language_info": {
   "codemirror_mode": {
    "name": "ipython",
    "version": 3
   },
   "file_extension": ".py",
   "mimetype": "text/x-python",
   "name": "python",
   "nbconvert_exporter": "python",
   "pygments_lexer": "ipython3",
   "version": "3.10.4"
  },
  "orig_nbformat": 4
 },
 "nbformat": 4,
 "nbformat_minor": 2
}
