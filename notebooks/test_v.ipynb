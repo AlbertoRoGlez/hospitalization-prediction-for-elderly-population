{
 "cells": [
  {
   "cell_type": "code",
   "execution_count": 1,
   "metadata": {},
   "outputs": [
    {
     "name": "stdout",
     "output_type": "stream",
     "text": [
      "Current directory: c:\\Users\\Leo\\OneDrive\\Escritorio\\Final Proyect\n"
     ]
    }
   ],
   "source": [
    "%load_ext autoreload\n",
    "%autoreload 2\n",
    "\n",
    "import __confing\n",
    "__confing.change_to_root_folder()"
   ]
  },
  {
   "cell_type": "code",
   "execution_count": 2,
   "metadata": {},
   "outputs": [],
   "source": [
    "import pandas as pd\n",
    "\n",
    "from src import value_filler as vs\n",
    "from src import feature_selection as fs\n",
    "from src import data_procces as dp\n",
    "\n",
    "from sklearn.preprocessing import StandardScaler\n",
    "from sklearn.model_selection import train_test_split\n",
    "from sklearn.utils import resample\n",
    "from src import evaluation\n",
    "\n",
    "from xgboost import XGBClassifier\n",
    "from sklearn.metrics import accuracy_score, classification_report, mean_squared_error,roc_auc_score,confusion_matrix\n",
    "from sklearn.model_selection import KFold"
   ]
  },
  {
   "cell_type": "code",
   "execution_count": 92,
   "metadata": {},
   "outputs": [],
   "source": [
    "def get_performance(model, X_train, X_test, y_train, y_test):\n",
    "    y_pred = model.predict(X_test)\n",
    "    roc_auc_train = roc_auc_score(y_train, model.predict(X_train))\n",
    "    # Validation ROC AUC Score\n",
    "    acc = accuracy_score(y_test, y_pred)\n",
    "    roc_auc_val = roc_auc_score(y_test, y_pred)\n",
    "    print( f\"Model Accuracy: {acc}\",\n",
    "            f\"Train roc_auc: {roc_auc_train}\", \n",
    "            f\"Test roc_auc: {roc_auc_val}\",\n",
    "            sep='\\n', end='\\n\\n')\n",
    "    print(confusion_matrix(y_test, y_pred),\n",
    "    classification_report(y_test, y_pred),\n",
    "    sep='\\n'\n",
    ")"
   ]
  },
  {
   "cell_type": "code",
   "execution_count": 93,
   "metadata": {},
   "outputs": [],
   "source": [
    "n=2\n",
    "df=pd.read_csv(f'data/waves/wave{n}_raw.csv')\n",
    "target=f'r{n}hosp1y'\n",
    "drop=f'r{n}hspnit1y'"
   ]
  },
  {
   "cell_type": "code",
   "execution_count": 94,
   "metadata": {},
   "outputs": [],
   "source": [
    "# Drope\n",
    "df = df.drop([drop], axis=1)\n",
    "\n",
    "df = df.dropna(subset=[target])\n",
    "\n",
    "porcentaje_nulos = df.isnull().sum(axis=1) / len(df.columns)\n",
    "df = df[(df[target] != 0) | (porcentaje_nulos <= 0.4)]"
   ]
  },
  {
   "cell_type": "code",
   "execution_count": 95,
   "metadata": {},
   "outputs": [],
   "source": [
    "# filling\n",
    "df_f = fs.fast_fill(df)"
   ]
  },
  {
   "cell_type": "code",
   "execution_count": 97,
   "metadata": {},
   "outputs": [],
   "source": [
    "# split\n",
    "y=df_f[target]\n",
    "X=df_f.drop(target,axis=1)\n",
    "\n",
    "X_train, X_test, y_train, y_test=dp.split_data(X, y, test_size=0.2, random_state=40)"
   ]
  },
  {
   "cell_type": "code",
   "execution_count": 98,
   "metadata": {},
   "outputs": [],
   "source": [
    "# resample \n",
    "X_train, y_train = dp.apply_resample(X_train, y_train,v=1.35)\n",
    "X_test, y_test = dp.apply_resample(X_test, y_test,v=1)"
   ]
  },
  {
   "cell_type": "code",
   "execution_count": 99,
   "metadata": {},
   "outputs": [],
   "source": [
    "# smote\n",
    "X_train, y_train = dp.apply_smote(X_train, y_train)"
   ]
  },
  {
   "cell_type": "code",
   "execution_count": 100,
   "metadata": {},
   "outputs": [],
   "source": [
    "# scaler\n",
    "X_train, X_test = dp.apply_standard_scaler(X_train, X_test)"
   ]
  },
  {
   "cell_type": "code",
   "execution_count": 101,
   "metadata": {},
   "outputs": [],
   "source": [
    "# power transform\n",
    "X_train, X_test = dp.apply_power_transform(X_train, X_test)"
   ]
  },
  {
   "cell_type": "code",
   "execution_count": 102,
   "metadata": {},
   "outputs": [
    {
     "name": "stdout",
     "output_type": "stream",
     "text": [
      "Model Accuracy: 0.859271523178808\n",
      "Train roc_auc: 0.9964328180737217\n",
      "Test roc_auc: 0.859271523178808\n",
      "\n",
      "[[257  45]\n",
      " [ 40 262]]\n",
      "              precision    recall  f1-score   support\n",
      "\n",
      "         0.0       0.87      0.85      0.86       302\n",
      "         1.0       0.85      0.87      0.86       302\n",
      "\n",
      "    accuracy                           0.86       604\n",
      "   macro avg       0.86      0.86      0.86       604\n",
      "weighted avg       0.86      0.86      0.86       604\n",
      "\n"
     ]
    }
   ],
   "source": [
    "import xgboost as xgb\n",
    "from sklearn.model_selection import KFold\n",
    "\n",
    "def train_xgboost_with_kfold(features, labels, model):\n",
    "    # Definir el número de folds (k)\n",
    "    k = 7\n",
    "    \n",
    "    kf = KFold(n_splits=k)\n",
    "    \n",
    "    # Iterar sobre los folds\n",
    "    for train_index, test_index in kf.split(features):\n",
    "        # Dividir los datos en conjuntos de entrenamiento y prueba\n",
    "        X_train, X_test = features[train_index], features[test_index]\n",
    "        y_train, y_test = labels[train_index], labels[test_index]\n",
    "        \n",
    "        # Entrenar el modelo XGBoost\n",
    "        model.fit(X_train, y_train)\n",
    "    \n",
    "    return model\n",
    "\n",
    "model_untrained = xgb.XGBClassifier()\n",
    "model= train_xgboost_with_kfold(X_train, y_train,model_untrained)\n",
    "\n",
    "get_performance(model, X_train, X_test, y_train, y_test)"
   ]
  },
  {
   "cell_type": "code",
   "execution_count": 103,
   "metadata": {},
   "outputs": [
    {
     "name": "stdout",
     "output_type": "stream",
     "text": [
      "Model Accuracy: 0.8609271523178808\n",
      "Train roc_auc: 1.0\n",
      "Test roc_auc: 0.8609271523178808\n",
      "\n",
      "[[264  38]\n",
      " [ 46 256]]\n",
      "              precision    recall  f1-score   support\n",
      "\n",
      "         0.0       0.85      0.87      0.86       302\n",
      "         1.0       0.87      0.85      0.86       302\n",
      "\n",
      "    accuracy                           0.86       604\n",
      "   macro avg       0.86      0.86      0.86       604\n",
      "weighted avg       0.86      0.86      0.86       604\n",
      "\n"
     ]
    }
   ],
   "source": [
    "model_2 = xgb.XGBClassifier()\n",
    "model_2 .fit(X_train, y_train)\n",
    "get_performance(model_2, X_train, X_test, y_train, y_test)"
   ]
  }
 ],
 "metadata": {
  "kernelspec": {
   "display_name": "env",
   "language": "python",
   "name": "python3"
  },
  "language_info": {
   "codemirror_mode": {
    "name": "ipython",
    "version": 3
   },
   "file_extension": ".py",
   "mimetype": "text/x-python",
   "name": "python",
   "nbconvert_exporter": "python",
   "pygments_lexer": "ipython3",
   "version": "3.10.4"
  },
  "orig_nbformat": 4
 },
 "nbformat": 4,
 "nbformat_minor": 2
}
