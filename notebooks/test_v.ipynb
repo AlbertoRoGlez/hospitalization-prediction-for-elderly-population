{
 "cells": [
  {
   "cell_type": "code",
   "execution_count": 339,
   "metadata": {},
   "outputs": [
    {
     "name": "stdout",
     "output_type": "stream",
     "text": [
      "The autoreload extension is already loaded. To reload it, use:\n",
      "  %reload_ext autoreload\n",
      "Current directory: c:\\Users\\Leo\\OneDrive\\Escritorio\\Final Proyect\n"
     ]
    }
   ],
   "source": [
    "%load_ext autoreload\n",
    "%autoreload 2\n",
    "\n",
    "import __confing\n",
    "__confing.change_to_root_folder()"
   ]
  },
  {
   "cell_type": "code",
   "execution_count": 399,
   "metadata": {},
   "outputs": [],
   "source": [
    "import pandas as pd\n",
    "import numpy as np\n",
    "\n",
    "from src import value_filler as vs\n",
    "from src import feature_selection as fs\n",
    "from src import data_procces as dp\n",
    "\n",
    "from sklearn.preprocessing import StandardScaler\n",
    "from sklearn.model_selection import train_test_split\n",
    "from sklearn.utils import resample\n",
    "from src import evaluation\n",
    "\n",
    "from xgboost import XGBClassifier\n",
    "from sklearn.metrics import accuracy_score, classification_report, mean_squared_error,roc_auc_score,confusion_matrix\n",
    "from sklearn.model_selection import KFold"
   ]
  },
  {
   "cell_type": "code",
   "execution_count": 400,
   "metadata": {},
   "outputs": [],
   "source": [
    "def feature_importance(model, df:pd.DataFrame, target:str, n:int):\n",
    "    importances = model.feature_importances_\n",
    "    indices = np.argsort(importances)[::-1]\n",
    "    \n",
    "    feature_names_original = list(df.columns)\n",
    "    feature_names_original.remove(target)\n",
    "    \n",
    "    max_importance = list(indices[:n])\n",
    "    \n",
    "    nueva_lista = [feature_names_original[i] for i in max_importance]\n",
    "    \n",
    "    return nueva_lista"
   ]
  },
  {
   "cell_type": "code",
   "execution_count": 401,
   "metadata": {},
   "outputs": [],
   "source": [
    "def get_performance(model, X_train, X_test, y_train, y_test):\n",
    "    y_pred = model.predict(X_test)\n",
    "    roc_auc_train = roc_auc_score(y_train, model.predict(X_train))\n",
    "    # Validation ROC AUC Score\n",
    "    acc = accuracy_score(y_test, y_pred)\n",
    "    roc_auc_val = roc_auc_score(y_test, y_pred)\n",
    "    print( f\"Model Accuracy: {acc}\",\n",
    "            f\"Train roc_auc: {roc_auc_train}\", \n",
    "            f\"Test roc_auc: {roc_auc_val}\",\n",
    "            sep='\\n', end='\\n\\n')\n",
    "    print(confusion_matrix(y_test, y_pred),\n",
    "    classification_report(y_test, y_pred),\n",
    "    sep='\\n'\n",
    ")"
   ]
  },
  {
   "cell_type": "code",
   "execution_count": 446,
   "metadata": {},
   "outputs": [],
   "source": [
    "n=3\n",
    "df=pd.read_csv(f'data/waves/wave{n}_raw.csv')\n",
    "target=f'r{n}hosp1y'\n",
    "drop=[f'r{n}hspnit1y'] # si la wave3 falla quitar estas columnas r3bpsft r3bpref"
   ]
  },
  {
   "cell_type": "code",
   "execution_count": 447,
   "metadata": {},
   "outputs": [],
   "source": [
    "# Drope\n",
    "df = df.drop(drop, axis=1)\n",
    "\n",
    "df = df.dropna(subset=[target]) \n",
    "\n",
    "porcentaje_nulos = df.isnull().sum(axis=1) / len(df.columns)\n",
    "df = df[(df[target] != 0) | (porcentaje_nulos <= 0.4)]"
   ]
  },
  {
   "cell_type": "code",
   "execution_count": 448,
   "metadata": {},
   "outputs": [],
   "source": [
    "# split\n",
    "y=df[target]\n",
    "X=df.drop(target,axis=1)\n",
    "X = fs.fast_fill(X)\n",
    "# X=X[columns_selected]\n",
    "X_train, X_test, y_train, y_test=dp.split_data(X, y, test_size=0.2, random_state=40)"
   ]
  },
  {
   "cell_type": "code",
   "execution_count": 449,
   "metadata": {},
   "outputs": [],
   "source": [
    "# resample \n",
    "X_train, y_train = dp.apply_resample(X_train, y_train,v=1.35)\n",
    "X_test, y_test = dp.apply_resample(X_test, y_test,v=1)"
   ]
  },
  {
   "cell_type": "code",
   "execution_count": 450,
   "metadata": {},
   "outputs": [],
   "source": [
    "# smote\n",
    "X_train, y_train = dp.apply_smote(X_train, y_train)"
   ]
  },
  {
   "cell_type": "code",
   "execution_count": 451,
   "metadata": {},
   "outputs": [],
   "source": [
    "# scaler\n",
    "X_train, X_test = dp.apply_standard_scaler(X_train, X_test)"
   ]
  },
  {
   "cell_type": "code",
   "execution_count": 452,
   "metadata": {},
   "outputs": [],
   "source": [
    "# # power transform\n",
    "X_train, X_test = dp.apply_power_transform(X_train, X_test)"
   ]
  },
  {
   "cell_type": "code",
   "execution_count": 453,
   "metadata": {},
   "outputs": [],
   "source": [
    "import xgboost as xgb\n",
    "from sklearn.model_selection import KFold\n",
    "\n",
    "def train_xgboost_with_kfold(features, labels, model):\n",
    "    # Definir el número de folds (k)\n",
    "    k = 7\n",
    "    \n",
    "    kf = KFold(n_splits=k)\n",
    "    \n",
    "    # Iterar sobre los folds\n",
    "    for train_index, test_index in kf.split(features):\n",
    "        # Dividir los datos en conjuntos de entrenamiento y prueba\n",
    "        X_train, X_test = features[train_index], features[test_index]\n",
    "        y_train, y_test = labels[train_index], labels[test_index]\n",
    "        \n",
    "        # Entrenar el modelo XGBoost\n",
    "        model.fit(X_train, y_train)\n",
    "    \n",
    "    return model\n",
    "\n",
    "model_untrained = xgb.XGBClassifier()\n",
    "model= train_xgboost_with_kfold(X_train, y_train,model_untrained)\n",
    "\n",
    "model_2 = xgb.XGBClassifier()\n",
    "model_2.fit(X_train, y_train)\n",
    "\n",
    "pass"
   ]
  },
  {
   "cell_type": "code",
   "execution_count": 454,
   "metadata": {},
   "outputs": [
    {
     "name": "stdout",
     "output_type": "stream",
     "text": [
      "Model Accuracy: 0.9029850746268657\n",
      "Train roc_auc: 0.9974515800203874\n",
      "Test roc_auc: 0.9029850746268656\n",
      "\n",
      "[[318  17]\n",
      " [ 48 287]]\n",
      "              precision    recall  f1-score   support\n",
      "\n",
      "         0.0       0.87      0.95      0.91       335\n",
      "         1.0       0.94      0.86      0.90       335\n",
      "\n",
      "    accuracy                           0.90       670\n",
      "   macro avg       0.91      0.90      0.90       670\n",
      "weighted avg       0.91      0.90      0.90       670\n",
      "\n",
      "######################################################\n",
      "\n",
      "Model Accuracy: 0.9059701492537313\n",
      "Train roc_auc: 1.0\n",
      "Test roc_auc: 0.9059701492537313\n",
      "\n",
      "[[323  12]\n",
      " [ 51 284]]\n",
      "              precision    recall  f1-score   support\n",
      "\n",
      "         0.0       0.86      0.96      0.91       335\n",
      "         1.0       0.96      0.85      0.90       335\n",
      "\n",
      "    accuracy                           0.91       670\n",
      "   macro avg       0.91      0.91      0.91       670\n",
      "weighted avg       0.91      0.91      0.91       670\n",
      "\n"
     ]
    }
   ],
   "source": [
    "get_performance(model, X_train, X_test, y_train, y_test)\n",
    "print('######################################################')\n",
    "print('')\n",
    "get_performance(model_2, X_train, X_test, y_train, y_test)"
   ]
  },
  {
   "cell_type": "code",
   "execution_count": 455,
   "metadata": {},
   "outputs": [
    {
     "name": "stdout",
     "output_type": "stream",
     "text": [
      "['r3rfcaredpmm', 'r3gripcomp', 'r3lgmusam', 'r3cesdm_m', 'r3oophos1y', 'r3rscarehrm', 'r3fvscan', 'r3hrtatlmt', 'r3domhand', 'r3nopencil', 'r3gpcare', 'r3wspeed1', 'r3shophlp', 'r3rxdiabi', 'r3walkaid_m', 'r3walkcomp', 'r3mobilsevm', 'r3balrtcomp', 'r3bathehlp', 'r3fatigue', 'r3rgrip2', 'r3nagi10', 'r3rafaany', 'r3oopfhho1y', 'r3doctim1y', 'r3cholst', 'r3mobila', 'r3jcten', 'r3retage', 'r3grossa', 'r3henum', 'r3rxarthr', 'r3breath_m', 'r3hltc', 'r3bed', 'r3wspeed', 'r3stoopa', 'r3clim1a', 'r3racaany', 'r3stoop', 'r3fallinj', 'r3fbwc20_m', 'r3hip_m', 'r3rfcare', 'r3money', 'r3rascaredpm', 'r3socwk', 'r3cage', 'r3doctor1y', 'r3jlocc_m']\n"
     ]
    }
   ],
   "source": [
    "print(feature_importance(model, df, target, n=50))"
   ]
  },
  {
   "cell_type": "code",
   "execution_count": 456,
   "metadata": {},
   "outputs": [
    {
     "name": "stdout",
     "output_type": "stream",
     "text": [
      "['r3gripcomp', 'r3rfcaredpmm', 'r3proxy', 'r3rscarehrm', 'r3oophos1y', 'r3hrtatlmt', 'r3stoopa', 'r3fineam', 'r3cholst', 'r3balrtcomp', 'r3fatigue', 'r3nagi8m', 'r3nagi10', 'r3rxdiabi', 'r3rafcare', 'r3bathehlp', 'r3retage', 'r3shophlp', 'r3walkaid_m', 'r3grossa', 'r3doctim1y', 'r3rfaany', 'r3rccare', 'r3bedhlp', 'r3walkcomp', 'r3sustdfe_m', 'r3mobila', 'r3enlife', 'r3rfcare', 'r3rxdiab', 'r3retemp', 'r3papsm', 'r3arms', 'r3domhand', 'r3shlt', 'r3nopencil', 'r3henum', 'r3rifcaredpm', 'r3fopenup_m', 'r3hip_m', 'r3raccare', 'r3jlasty', 'r3jlocc_m', 'r3riccare', 'r3rgrip2', 'r3covs_m', 'r3hrtatte', 'r3diabe', 'r3novisual', 'r3toilt']\n"
     ]
    }
   ],
   "source": [
    "print(feature_importance(model_2, df, target, n=50))"
   ]
  },
  {
   "attachments": {},
   "cell_type": "markdown",
   "metadata": {},
   "source": [
    "Model Accuracy: 0.9029850746268657\n",
    "Train roc_auc: 0.9982161060142712\n",
    "Test roc_auc: 0.9029850746268656\n",
    "\n",
    "Model Accuracy: 0.9029850746268657\n",
    "Train roc_auc: 1.0\n",
    "Test roc_auc: 0.9029850746268656"
   ]
  }
 ],
 "metadata": {
  "kernelspec": {
   "display_name": "env",
   "language": "python",
   "name": "python3"
  },
  "language_info": {
   "codemirror_mode": {
    "name": "ipython",
    "version": 3
   },
   "file_extension": ".py",
   "mimetype": "text/x-python",
   "name": "python",
   "nbconvert_exporter": "python",
   "pygments_lexer": "ipython3",
   "version": "3.10.4"
  },
  "orig_nbformat": 4
 },
 "nbformat": 4,
 "nbformat_minor": 2
}
