{
 "cells": [
  {
   "cell_type": "code",
   "execution_count": 1,
   "metadata": {},
   "outputs": [
    {
     "name": "stdout",
     "output_type": "stream",
     "text": [
      "Current directory: c:\\Users\\Leo\\OneDrive\\Escritorio\\Final Proyect\n"
     ]
    }
   ],
   "source": [
    "%load_ext autoreload\n",
    "%autoreload 2\n",
    "\n",
    "import __confing\n",
    "__confing.change_to_root_folder()"
   ]
  },
  {
   "cell_type": "code",
   "execution_count": 2,
   "metadata": {},
   "outputs": [],
   "source": [
    "try:\n",
    "    __confing.execute_notebook('notebooks/data_extract.ipynb')\n",
    "except:\n",
    "    pass"
   ]
  },
  {
   "cell_type": "code",
   "execution_count": 3,
   "metadata": {},
   "outputs": [],
   "source": [
    "import pandas as pd\n",
    "import numpy as np\n",
    "\n",
    "from src import value_filler as vf\n",
    "from src import feature_selection as fs\n",
    "from src import data_procces as dp\n",
    "\n",
    "from sklearn.preprocessing import StandardScaler\n",
    "from sklearn.preprocessing import PowerTransformer\n",
    "from sklearn.model_selection import train_test_split\n",
    "from sklearn.utils import resample\n",
    "\n",
    "from xgboost import XGBClassifier\n",
    "from sklearn.metrics import accuracy_score, classification_report, mean_squared_error,roc_auc_score,confusion_matrix,recall_score,confusion_matrix,f1_score \n",
    "from sklearn.model_selection import KFold\n",
    "from sklearn.preprocessing import StandardScaler\n",
    "import joblib\n",
    "\n",
    "import matplotlib.pyplot as plt\n",
    "import seaborn as sns"
   ]
  },
  {
   "cell_type": "code",
   "execution_count": 4,
   "metadata": {},
   "outputs": [],
   "source": [
    "def feature_importance(model, X: pd.DataFrame, y: pd.Series, n: int):\n",
    "    importances = model.feature_importances_\n",
    "    indices = np.argsort(importances)[::-1]\n",
    "    \n",
    "    feature_names_original = list(X.columns)\n",
    "    \n",
    "    target_name = y.name  # Obtener el nombre de la columna objetivo desde la Serie y\n",
    "    \n",
    "    if target_name in feature_names_original:\n",
    "        feature_names_original.remove(target_name)\n",
    "    \n",
    "    max_importance = list(indices[:n])\n",
    "    \n",
    "    nueva_lista = [feature_names_original[i] for i in max_importance]\n",
    "    \n",
    "    return nueva_lista\n",
    "\n",
    "def proba_dist(model, X_test):\n",
    "    with plt.style.context('fivethirtyeight'):\n",
    "        sns.histplot(model.predict_proba(X_test), bins=-50)\n",
    "        plt.title(\"Probability distribution for each Target category\")\n",
    "        plt.xlabel(\"Probability\")\n",
    "        plt.ylabel(\"Frequency\")\n",
    "        plt.show()\n"
   ]
  },
  {
   "cell_type": "code",
   "execution_count": 5,
   "metadata": {},
   "outputs": [],
   "source": [
    "n='a'\n",
    "df=pd.read_csv(r'data\\custom\\all_waves.csv')\n",
    "df = df.loc[df['paagey'] >= 50]\n",
    "target=f'p{n}hosp1y'"
   ]
  },
  {
   "cell_type": "code",
   "execution_count": 6,
   "metadata": {},
   "outputs": [
    {
     "data": {
      "text/plain": [
       "32"
      ]
     },
     "execution_count": 6,
     "metadata": {},
     "output_type": "execute_result"
    }
   ],
   "source": [
    "selected=['pahosp1y','pahipe_m', 'padadage', 'pamomage', 'pahibpe', 'palunge_m', 'pacholst', 'pagrossaa', 'paosleep', 'pafallinj', 'pacancre', 'paswell', 'pachair', 'parafaany', 'pawheeze', 'paagey', 'paarthre', 'padiabe', 'parjudg', 'paweight', 'paclims', 'pastroke', 'pabathehlp', 'pasmokev', 'pahearaid', 'pameds', 'paheight', 'paglasses', 'paeat', 'papaina', 'pagender', 'padrinkb']\n",
    "len(selected)"
   ]
  },
  {
   "cell_type": "code",
   "execution_count": 7,
   "metadata": {},
   "outputs": [],
   "source": [
    "df3 = df.where(df['cpindex'] <=  107.69).dropna(subset=['cpindex'])"
   ]
  },
  {
   "cell_type": "code",
   "execution_count": 8,
   "metadata": {},
   "outputs": [],
   "source": [
    "selected = list(set(selected))\n",
    "\n",
    "df_s = df3.dropna(subset=[target]) \n",
    "df_s = df_s[selected].copy()"
   ]
  },
  {
   "cell_type": "code",
   "execution_count": 9,
   "metadata": {},
   "outputs": [],
   "source": [
    "porcentaje_nulos = df_s.isnull().sum(axis=1) / len(df.columns)\n",
    "df_s = df_s[(df_s[target] != 0) | (porcentaje_nulos <= 0.5)]"
   ]
  },
  {
   "cell_type": "code",
   "execution_count": 10,
   "metadata": {},
   "outputs": [],
   "source": [
    "# fill\n",
    "y = df_s[target]\n",
    "X = df_s.drop(target,axis=1)"
   ]
  },
  {
   "cell_type": "code",
   "execution_count": 11,
   "metadata": {},
   "outputs": [],
   "source": [
    "X = fs.fast_fill(X)\n",
    "X=X.sort_index(axis=1)"
   ]
  },
  {
   "cell_type": "code",
   "execution_count": 12,
   "metadata": {},
   "outputs": [],
   "source": [
    "scaler = StandardScaler()\n",
    "X=scaler.fit_transform(X)\n",
    "\n",
    "transformer = PowerTransformer(method='yeo-johnson')\n",
    "X=transformer.fit_transform(X)\n",
    "pass"
   ]
  },
  {
   "cell_type": "code",
   "execution_count": 13,
   "metadata": {},
   "outputs": [],
   "source": [
    "zeros=y.value_counts()[0]\n",
    "unos=y.value_counts()[1]"
   ]
  },
  {
   "cell_type": "code",
   "execution_count": 63,
   "metadata": {},
   "outputs": [],
   "source": [
    "params={\n",
    "        'max_depth': 8, \n",
    "        'subsample': 0.759545947005226,\n",
    "        'colsample_bytree': 0.9075616505206274, \n",
    "        'eta': 0.05568753700048324, \n",
    "        'min_child_weight': 5, \n",
    "        'learning_rate': 0.0999908981133205, \n",
    "        'n_estimators': 560,\n",
    "        'scale_pos_weight': (zeros/unos)-2.5, # \n",
    "        'n_jobs':-1\n",
    "}\n",
    "\n",
    "model = XGBClassifier(**params)"
   ]
  },
  {
   "cell_type": "code",
   "execution_count": 64,
   "metadata": {},
   "outputs": [],
   "source": [
    "from sklearn.model_selection import KFold\n",
    "\n",
    "kf = KFold(n_splits=7)\n",
    "\n",
    "results = []\n",
    "for train_index, test_index in kf.split(X):\n",
    "    X_train, X_test = X[train_index], X[test_index]\n",
    "    y_train, y_test = y.iloc[train_index], y.iloc[test_index]\n",
    "    \n",
    "    # X_train, y_train = dp.apply_smote(X_train, y_train) el smote es malo en este caso\n",
    "    \n",
    "    model.fit(X_train, y_train)\n",
    "    \n",
    "    y_pred_proba = model.predict_proba(X_test)[:, 1]\n",
    "    auc = roc_auc_score(y_test, y_pred_proba)\n",
    "    \n",
    "    results.append(auc)"
   ]
  },
  {
   "cell_type": "code",
   "execution_count": 65,
   "metadata": {},
   "outputs": [
    {
     "name": "stdout",
     "output_type": "stream",
     "text": [
      "AUC Score: 0.9387559827123356\n"
     ]
    }
   ],
   "source": [
    "cv_score = np.mean(results)\n",
    "print('AUC Score:', cv_score)"
   ]
  },
  {
   "cell_type": "code",
   "execution_count": 66,
   "metadata": {},
   "outputs": [
    {
     "data": {
      "image/png": "[encoded data removed]",
      "text/plain": [
       "<Figure size 640x480 with 1 Axes>"
      ]
     },
     "metadata": {},
     "output_type": "display_data"
    }
   ],
   "source": [
    "proba_dist(model, X_test)"
   ]
  },
  {
   "cell_type": "code",
   "execution_count": 67,
   "metadata": {},
   "outputs": [
    {
     "data": {
      "text/plain": [
       "['try kfold/transformer_k.pkl']"
      ]
     },
     "execution_count": 67,
     "metadata": {},
     "output_type": "execute_result"
    }
   ],
   "source": [
    "# model.save_model('try kfold/model_k2.xgb')\n",
    "# joblib.dump(scaler,'try kfold/scaler_k.pkl')\n",
    "# joblib.dump(transformer,'try kfold/transformer_k.pkl')"
   ]
  },
  {
   "cell_type": "code",
   "execution_count": 70,
   "metadata": {},
   "outputs": [],
   "source": [
    "params = model.get_params()"
   ]
  },
  {
   "cell_type": "code",
   "execution_count": 71,
   "metadata": {},
   "outputs": [
    {
     "data": {
      "text/plain": [
       "{'objective': 'binary:logistic',\n",
       " 'use_label_encoder': None,\n",
       " 'base_score': None,\n",
       " 'booster': None,\n",
       " 'callbacks': None,\n",
       " 'colsample_bylevel': None,\n",
       " 'colsample_bynode': None,\n",
       " 'colsample_bytree': 0.9075616505206274,\n",
       " 'early_stopping_rounds': None,\n",
       " 'enable_categorical': False,\n",
       " 'eval_metric': None,\n",
       " 'feature_types': None,\n",
       " 'gamma': None,\n",
       " 'gpu_id': None,\n",
       " 'grow_policy': None,\n",
       " 'importance_type': None,\n",
       " 'interaction_constraints': None,\n",
       " 'learning_rate': 0.0999908981133205,\n",
       " 'max_bin': None,\n",
       " 'max_cat_threshold': None,\n",
       " 'max_cat_to_onehot': None,\n",
       " 'max_delta_step': None,\n",
       " 'max_depth': 8,\n",
       " 'max_leaves': None,\n",
       " 'min_child_weight': 5,\n",
       " 'missing': nan,\n",
       " 'monotone_constraints': None,\n",
       " 'n_estimators': 560,\n",
       " 'n_jobs': -1,\n",
       " 'num_parallel_tree': None,\n",
       " 'predictor': None,\n",
       " 'random_state': None,\n",
       " 'reg_alpha': None,\n",
       " 'reg_lambda': None,\n",
       " 'sampling_method': None,\n",
       " 'scale_pos_weight': 5.893429158110884,\n",
       " 'subsample': 0.759545947005226,\n",
       " 'tree_method': None,\n",
       " 'validate_parameters': None,\n",
       " 'verbosity': None,\n",
       " 'eta': 0.05568753700048324}"
      ]
     },
     "execution_count": 71,
     "metadata": {},
     "output_type": "execute_result"
    }
   ],
   "source": [
    "params"
   ]
  }
 ],
 "metadata": {
  "kernelspec": {
   "display_name": "env",
   "language": "python",
   "name": "python3"
  },
  "language_info": {
   "codemirror_mode": {
    "name": "ipython",
    "version": 3
   },
   "file_extension": ".py",
   "mimetype": "text/x-python",
   "name": "python",
   "nbconvert_exporter": "python",
   "pygments_lexer": "ipython3",
   "version": "3.10.4"
  },
  "orig_nbformat": 4
 },
 "nbformat": 4,
 "nbformat_minor": 2
}
